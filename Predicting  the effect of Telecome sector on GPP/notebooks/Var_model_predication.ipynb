{
 "cells": [
  {
   "cell_type": "markdown",
   "id": "5edfd99c",
   "metadata": {
    "id": "5edfd99c"
   },
   "source": [
    "# Var model for GDP prediction"
   ]
  },
  {
   "cell_type": "code",
   "execution_count": 1,
   "id": "039648c5",
   "metadata": {
    "id": "039648c5"
   },
   "outputs": [],
   "source": [
    "import pickle\n",
    "import warnings\n",
    "from math import sqrt\n",
    "import lightgbm as lgb\n",
    "import matplotlib as mpl\n",
    "import numpy as np\n",
    "import pandas as pd  # Basic library for all of our dataset operations\n",
    "import tensorflow as tf\n",
    "from sklearn import model_selection\n",
    "from sklearn.metrics import r2_score\n",
    "from matplotlib import pyplot as plt\n",
    "from sklearn import linear_model, svm\n",
    "from sklearn.metrics import make_scorer, mean_squared_error\n",
    "from sklearn.model_selection import GridSearchCV, cross_val_score\n",
    "from sklearn.preprocessing import StandardScaler\n",
    "from sklearn.model_selection import train_test_split\n",
    "from tensorflow.keras.layers import Dropout\n",
    "from tensorflow.keras.models import Sequential\n",
    "from tensorflow.keras.layers import Dense\n",
    "from tensorflow.keras.optimizers import Adam\n",
    "from tensorflow.keras.callbacks import EarlyStopping, ReduceLROnPlateau, ModelCheckpoint\n",
    "from statsmodels.tsa.stattools import grangercausalitytests\n",
    "from statsmodels.tsa.stattools import adfuller\n",
    "import statsmodels.api as sm\n",
    "from statsmodels.tsa.api import VAR\n",
    "from statsmodels.graphics.tsaplots import plot_acf, plot_pacf\n",
    "from tqdm import tqdm_notebook\n",
    "from itertools import product\n",
    "# Import Statsmodels\n",
    "from statsmodels.tools.eval_measures import rmse, aic\n",
    "from sklearn.metrics import mean_absolute_error as mae\n",
    "from sklearn.metrics import mean_absolute_percentage_error as mape\n",
    "mpl.rcParams['figure.figsize'] = (10, 8)\n",
    "mpl.rcParams['axes.grid'] = False\n",
    "# Extra settings\n",
    "seed = 42\n",
    "tf.random.set_seed(seed)\n",
    "np.random.seed(seed)\n",
    "plt.style.use('bmh')\n",
    "mpl.rcParams['axes.labelsize'] = 14\n",
    "mpl.rcParams['xtick.labelsize'] = 12\n",
    "mpl.rcParams['ytick.labelsize'] = 12\n",
    "mpl.rcParams['text.color'] = 'k'\n",
    "mpl.rcParams['figure.figsize'] = 18, 8\n"
   ]
  },
  {
   "cell_type": "code",
   "execution_count": 2,
   "id": "108b2ca9",
   "metadata": {
    "colab": {
     "base_uri": "https://localhost:8080/",
     "height": 1000
    },
    "id": "108b2ca9",
    "outputId": "493db90f-5765-4b9a-fa9f-e043c18051dc"
   },
   "outputs": [
    {
     "data": {
      "text/html": [
       "<div>\n",
       "<style scoped>\n",
       "    .dataframe tbody tr th:only-of-type {\n",
       "        vertical-align: middle;\n",
       "    }\n",
       "\n",
       "    .dataframe tbody tr th {\n",
       "        vertical-align: top;\n",
       "    }\n",
       "\n",
       "    .dataframe thead th {\n",
       "        text-align: right;\n",
       "    }\n",
       "</style>\n",
       "<table border=\"1\" class=\"dataframe\">\n",
       "  <thead>\n",
       "    <tr style=\"text-align: right;\">\n",
       "      <th></th>\n",
       "      <th>years</th>\n",
       "      <th>GDP</th>\n",
       "      <th>EXP__INF</th>\n",
       "      <th>GDP_TELE</th>\n",
       "      <th>N_INTE_USERS</th>\n",
       "      <th>N_MOBILE__SUBS</th>\n",
       "      <th>POPULATION</th>\n",
       "    </tr>\n",
       "  </thead>\n",
       "  <tbody>\n",
       "    <tr>\n",
       "      <th>0</th>\n",
       "      <td>2002Q1</td>\n",
       "      <td>93.4</td>\n",
       "      <td>485.0</td>\n",
       "      <td>542.0</td>\n",
       "      <td>150.0</td>\n",
       "      <td>449.0</td>\n",
       "      <td>4246.0</td>\n",
       "    </tr>\n",
       "    <tr>\n",
       "      <th>1</th>\n",
       "      <td>2002Q2</td>\n",
       "      <td>87.4</td>\n",
       "      <td>527.0</td>\n",
       "      <td>554.0</td>\n",
       "      <td>168.0</td>\n",
       "      <td>482.0</td>\n",
       "      <td>4278.0</td>\n",
       "    </tr>\n",
       "    <tr>\n",
       "      <th>2</th>\n",
       "      <td>2002Q3</td>\n",
       "      <td>87.2</td>\n",
       "      <td>568.0</td>\n",
       "      <td>566.0</td>\n",
       "      <td>185.0</td>\n",
       "      <td>515.0</td>\n",
       "      <td>4310.0</td>\n",
       "    </tr>\n",
       "    <tr>\n",
       "      <th>3</th>\n",
       "      <td>2002Q4</td>\n",
       "      <td>86.5</td>\n",
       "      <td>609.0</td>\n",
       "      <td>577.0</td>\n",
       "      <td>202.0</td>\n",
       "      <td>547.0</td>\n",
       "      <td>4343.0</td>\n",
       "    </tr>\n",
       "    <tr>\n",
       "      <th>4</th>\n",
       "      <td>2003Q1</td>\n",
       "      <td>96.4</td>\n",
       "      <td>651.0</td>\n",
       "      <td>589.0</td>\n",
       "      <td>220.0</td>\n",
       "      <td>580.0</td>\n",
       "      <td>4375.0</td>\n",
       "    </tr>\n",
       "    <tr>\n",
       "      <th>...</th>\n",
       "      <td>...</td>\n",
       "      <td>...</td>\n",
       "      <td>...</td>\n",
       "      <td>...</td>\n",
       "      <td>...</td>\n",
       "      <td>...</td>\n",
       "      <td>...</td>\n",
       "    </tr>\n",
       "    <tr>\n",
       "      <th>68</th>\n",
       "      <td>2019Q1</td>\n",
       "      <td>975.2</td>\n",
       "      <td>1646.0</td>\n",
       "      <td>1836.0</td>\n",
       "      <td>3530.0</td>\n",
       "      <td>9534.0</td>\n",
       "      <td>6113.0</td>\n",
       "    </tr>\n",
       "    <tr>\n",
       "      <th>69</th>\n",
       "      <td>2019Q2</td>\n",
       "      <td>1007.4</td>\n",
       "      <td>1726.0</td>\n",
       "      <td>1904.0</td>\n",
       "      <td>2758.0</td>\n",
       "      <td>9534.0</td>\n",
       "      <td>6139.0</td>\n",
       "    </tr>\n",
       "    <tr>\n",
       "      <th>70</th>\n",
       "      <td>2019Q3</td>\n",
       "      <td>976.1</td>\n",
       "      <td>1807.0</td>\n",
       "      <td>1973.0</td>\n",
       "      <td>1985.0</td>\n",
       "      <td>9535.0</td>\n",
       "      <td>6165.0</td>\n",
       "    </tr>\n",
       "    <tr>\n",
       "      <th>71</th>\n",
       "      <td>2019Q4</td>\n",
       "      <td>1004.7</td>\n",
       "      <td>1888.0</td>\n",
       "      <td>2042.0</td>\n",
       "      <td>1212.0</td>\n",
       "      <td>9535.0</td>\n",
       "      <td>6191.0</td>\n",
       "    </tr>\n",
       "    <tr>\n",
       "      <th>72</th>\n",
       "      <td>2020Q1</td>\n",
       "      <td>1024.4</td>\n",
       "      <td>1968.0</td>\n",
       "      <td>2111.0</td>\n",
       "      <td>440.0</td>\n",
       "      <td>9536.0</td>\n",
       "      <td>6217.0</td>\n",
       "    </tr>\n",
       "  </tbody>\n",
       "</table>\n",
       "<p>73 rows × 7 columns</p>\n",
       "</div>"
      ],
      "text/plain": [
       "     years     GDP  EXP__INF  GDP_TELE  N_INTE_USERS  N_MOBILE__SUBS  \\\n",
       "0   2002Q1    93.4     485.0     542.0         150.0           449.0   \n",
       "1   2002Q2    87.4     527.0     554.0         168.0           482.0   \n",
       "2   2002Q3    87.2     568.0     566.0         185.0           515.0   \n",
       "3   2002Q4    86.5     609.0     577.0         202.0           547.0   \n",
       "4   2003Q1    96.4     651.0     589.0         220.0           580.0   \n",
       "..     ...     ...       ...       ...           ...             ...   \n",
       "68  2019Q1   975.2    1646.0    1836.0        3530.0          9534.0   \n",
       "69  2019Q2  1007.4    1726.0    1904.0        2758.0          9534.0   \n",
       "70  2019Q3   976.1    1807.0    1973.0        1985.0          9535.0   \n",
       "71  2019Q4  1004.7    1888.0    2042.0        1212.0          9535.0   \n",
       "72  2020Q1  1024.4    1968.0    2111.0         440.0          9536.0   \n",
       "\n",
       "    POPULATION  \n",
       "0       4246.0  \n",
       "1       4278.0  \n",
       "2       4310.0  \n",
       "3       4343.0  \n",
       "4       4375.0  \n",
       "..         ...  \n",
       "68      6113.0  \n",
       "69      6139.0  \n",
       "70      6165.0  \n",
       "71      6191.0  \n",
       "72      6217.0  \n",
       "\n",
       "[73 rows x 7 columns]"
      ]
     },
     "execution_count": 2,
     "metadata": {},
     "output_type": "execute_result"
    }
   ],
   "source": [
    "#importing the dataset\n",
    "#importing the dataset\n",
    "#from google.colab import drive\n",
    "#drive.mount('/content/Mydrive')\n",
    "#df2= pd.read_csv('Mydrive/My Drive/full_GDP_data.csv')\n",
    "df2= pd.read_csv('da.csv')\n",
    "df2"
   ]
  },
  {
   "cell_type": "code",
   "execution_count": 3,
   "id": "646c6408",
   "metadata": {},
   "outputs": [],
   "source": [
    "#f2.drop(columns=['POPULATION'], inplace=True)"
   ]
  },
  {
   "cell_type": "code",
   "execution_count": 4,
   "id": "bf8f27cb",
   "metadata": {},
   "outputs": [
    {
     "data": {
      "text/html": [
       "<div>\n",
       "<style scoped>\n",
       "    .dataframe tbody tr th:only-of-type {\n",
       "        vertical-align: middle;\n",
       "    }\n",
       "\n",
       "    .dataframe tbody tr th {\n",
       "        vertical-align: top;\n",
       "    }\n",
       "\n",
       "    .dataframe thead th {\n",
       "        text-align: right;\n",
       "    }\n",
       "</style>\n",
       "<table border=\"1\" class=\"dataframe\">\n",
       "  <thead>\n",
       "    <tr style=\"text-align: right;\">\n",
       "      <th></th>\n",
       "      <th>years</th>\n",
       "      <th>GDP</th>\n",
       "      <th>EXP__INF</th>\n",
       "      <th>GDP_TELE</th>\n",
       "      <th>N_INTE_USERS</th>\n",
       "      <th>N_MOBILE__SUBS</th>\n",
       "      <th>POPULATION</th>\n",
       "    </tr>\n",
       "  </thead>\n",
       "  <tbody>\n",
       "    <tr>\n",
       "      <th>0</th>\n",
       "      <td>2002Q1</td>\n",
       "      <td>93.4</td>\n",
       "      <td>485.0</td>\n",
       "      <td>542.0</td>\n",
       "      <td>150.0</td>\n",
       "      <td>449.0</td>\n",
       "      <td>4246.0</td>\n",
       "    </tr>\n",
       "    <tr>\n",
       "      <th>1</th>\n",
       "      <td>2002Q2</td>\n",
       "      <td>87.4</td>\n",
       "      <td>527.0</td>\n",
       "      <td>554.0</td>\n",
       "      <td>168.0</td>\n",
       "      <td>482.0</td>\n",
       "      <td>4278.0</td>\n",
       "    </tr>\n",
       "    <tr>\n",
       "      <th>2</th>\n",
       "      <td>2002Q3</td>\n",
       "      <td>87.2</td>\n",
       "      <td>568.0</td>\n",
       "      <td>566.0</td>\n",
       "      <td>185.0</td>\n",
       "      <td>515.0</td>\n",
       "      <td>4310.0</td>\n",
       "    </tr>\n",
       "    <tr>\n",
       "      <th>3</th>\n",
       "      <td>2002Q4</td>\n",
       "      <td>86.5</td>\n",
       "      <td>609.0</td>\n",
       "      <td>577.0</td>\n",
       "      <td>202.0</td>\n",
       "      <td>547.0</td>\n",
       "      <td>4343.0</td>\n",
       "    </tr>\n",
       "    <tr>\n",
       "      <th>4</th>\n",
       "      <td>2003Q1</td>\n",
       "      <td>96.4</td>\n",
       "      <td>651.0</td>\n",
       "      <td>589.0</td>\n",
       "      <td>220.0</td>\n",
       "      <td>580.0</td>\n",
       "      <td>4375.0</td>\n",
       "    </tr>\n",
       "  </tbody>\n",
       "</table>\n",
       "</div>"
      ],
      "text/plain": [
       "    years   GDP  EXP__INF  GDP_TELE  N_INTE_USERS  N_MOBILE__SUBS  POPULATION\n",
       "0  2002Q1  93.4     485.0     542.0         150.0           449.0      4246.0\n",
       "1  2002Q2  87.4     527.0     554.0         168.0           482.0      4278.0\n",
       "2  2002Q3  87.2     568.0     566.0         185.0           515.0      4310.0\n",
       "3  2002Q4  86.5     609.0     577.0         202.0           547.0      4343.0\n",
       "4  2003Q1  96.4     651.0     589.0         220.0           580.0      4375.0"
      ]
     },
     "execution_count": 4,
     "metadata": {},
     "output_type": "execute_result"
    }
   ],
   "source": [
    "df2.head()"
   ]
  },
  {
   "cell_type": "code",
   "execution_count": 5,
   "id": "fa837749",
   "metadata": {
    "id": "fa837749"
   },
   "outputs": [],
   "source": [
    "df=df2.copy()"
   ]
  },
  {
   "cell_type": "code",
   "execution_count": 6,
   "id": "81125404",
   "metadata": {
    "id": "81125404"
   },
   "outputs": [],
   "source": [
    "column_to_move = df.pop(\"GDP\")\n",
    "\n",
    "#insert column with insert(location, column_name, column_value)\n",
    "\n",
    "df.insert(1, \"GDP\", column_to_move)"
   ]
  },
  {
   "cell_type": "code",
   "execution_count": 7,
   "id": "f8c51f10",
   "metadata": {},
   "outputs": [
    {
     "data": {
      "text/html": [
       "<div>\n",
       "<style scoped>\n",
       "    .dataframe tbody tr th:only-of-type {\n",
       "        vertical-align: middle;\n",
       "    }\n",
       "\n",
       "    .dataframe tbody tr th {\n",
       "        vertical-align: top;\n",
       "    }\n",
       "\n",
       "    .dataframe thead th {\n",
       "        text-align: right;\n",
       "    }\n",
       "</style>\n",
       "<table border=\"1\" class=\"dataframe\">\n",
       "  <thead>\n",
       "    <tr style=\"text-align: right;\">\n",
       "      <th></th>\n",
       "      <th>GDP</th>\n",
       "      <th>EXP__INF</th>\n",
       "      <th>GDP_TELE</th>\n",
       "      <th>N_INTE_USERS</th>\n",
       "      <th>N_MOBILE__SUBS</th>\n",
       "      <th>POPULATION</th>\n",
       "    </tr>\n",
       "    <tr>\n",
       "      <th>datetime</th>\n",
       "      <th></th>\n",
       "      <th></th>\n",
       "      <th></th>\n",
       "      <th></th>\n",
       "      <th></th>\n",
       "      <th></th>\n",
       "    </tr>\n",
       "  </thead>\n",
       "  <tbody>\n",
       "    <tr>\n",
       "      <th>2002-01-01</th>\n",
       "      <td>93.4</td>\n",
       "      <td>485.0</td>\n",
       "      <td>542.0</td>\n",
       "      <td>150.0</td>\n",
       "      <td>449.0</td>\n",
       "      <td>4246.0</td>\n",
       "    </tr>\n",
       "    <tr>\n",
       "      <th>2002-04-01</th>\n",
       "      <td>87.4</td>\n",
       "      <td>527.0</td>\n",
       "      <td>554.0</td>\n",
       "      <td>168.0</td>\n",
       "      <td>482.0</td>\n",
       "      <td>4278.0</td>\n",
       "    </tr>\n",
       "    <tr>\n",
       "      <th>2002-07-01</th>\n",
       "      <td>87.2</td>\n",
       "      <td>568.0</td>\n",
       "      <td>566.0</td>\n",
       "      <td>185.0</td>\n",
       "      <td>515.0</td>\n",
       "      <td>4310.0</td>\n",
       "    </tr>\n",
       "    <tr>\n",
       "      <th>2002-10-01</th>\n",
       "      <td>86.5</td>\n",
       "      <td>609.0</td>\n",
       "      <td>577.0</td>\n",
       "      <td>202.0</td>\n",
       "      <td>547.0</td>\n",
       "      <td>4343.0</td>\n",
       "    </tr>\n",
       "    <tr>\n",
       "      <th>2003-01-01</th>\n",
       "      <td>96.4</td>\n",
       "      <td>651.0</td>\n",
       "      <td>589.0</td>\n",
       "      <td>220.0</td>\n",
       "      <td>580.0</td>\n",
       "      <td>4375.0</td>\n",
       "    </tr>\n",
       "  </tbody>\n",
       "</table>\n",
       "</div>"
      ],
      "text/plain": [
       "             GDP  EXP__INF  GDP_TELE  N_INTE_USERS  N_MOBILE__SUBS  POPULATION\n",
       "datetime                                                                      \n",
       "2002-01-01  93.4     485.0     542.0         150.0           449.0      4246.0\n",
       "2002-04-01  87.4     527.0     554.0         168.0           482.0      4278.0\n",
       "2002-07-01  87.2     568.0     566.0         185.0           515.0      4310.0\n",
       "2002-10-01  86.5     609.0     577.0         202.0           547.0      4343.0\n",
       "2003-01-01  96.4     651.0     589.0         220.0           580.0      4375.0"
      ]
     },
     "execution_count": 7,
     "metadata": {},
     "output_type": "execute_result"
    }
   ],
   "source": [
    "#convert data to datatime index\n",
    "df['datetime'] = pd.to_datetime(df['years'])\n",
    "df = df.set_index('datetime')\n",
    "df.drop(['years'], axis=1, inplace=True)\n",
    "#df = df.sort_index(ascending=True)\n",
    "df.head()"
   ]
  },
  {
   "cell_type": "code",
   "execution_count": 8,
   "id": "dca2c686",
   "metadata": {
    "colab": {
     "base_uri": "https://localhost:8080/",
     "height": 388
    },
    "id": "dca2c686",
    "outputId": "612f9bfa-819b-4210-97d1-ddc22656bfc4"
   },
   "outputs": [],
   "source": [
    "#convert data to datatime index\n",
    "#df['date'] = pd.to_datetime(df['years'])\n",
    "#df = df.set_index('date')\n",
    "#df.drop(['years'], axis=1, inplace=True)\n",
    "#df = df.sort_index(ascending=True)\n",
    "#df.head()\n",
    "#df['years']=pd.Series(df['years'])\n",
    "#convert data to datatime index\n",
    "\n",
    "#df = df.set_index('years')\n",
    "#df = df.sort_index(ascending=True)df.head()"
   ]
  },
  {
   "cell_type": "code",
   "execution_count": 9,
   "id": "e8074d6b",
   "metadata": {},
   "outputs": [
    {
     "name": "stdout",
     "output_type": "stream",
     "text": [
      "<class 'pandas.core.frame.DataFrame'>\n",
      "DatetimeIndex: 73 entries, 2002-01-01 to 2020-01-01\n",
      "Data columns (total 6 columns):\n",
      " #   Column          Non-Null Count  Dtype  \n",
      "---  ------          --------------  -----  \n",
      " 0   GDP             73 non-null     float64\n",
      " 1   EXP__INF        73 non-null     float64\n",
      " 2   GDP_TELE        73 non-null     float64\n",
      " 3   N_INTE_USERS    73 non-null     float64\n",
      " 4   N_MOBILE__SUBS  73 non-null     float64\n",
      " 5   POPULATION      73 non-null     float64\n",
      "dtypes: float64(6)\n",
      "memory usage: 4.0 KB\n"
     ]
    }
   ],
   "source": [
    "df.info()"
   ]
  },
  {
   "cell_type": "code",
   "execution_count": 10,
   "id": "b3dfd21c",
   "metadata": {},
   "outputs": [],
   "source": [
    "#g=['years','GDP']\n",
    "#df1=df.columns.difference(g)\n",
    "#df[df1]=df[df1].div(10000).round()"
   ]
  },
  {
   "cell_type": "code",
   "execution_count": 11,
   "id": "3d23ec47",
   "metadata": {},
   "outputs": [
    {
     "data": {
      "text/html": [
       "<div>\n",
       "<style scoped>\n",
       "    .dataframe tbody tr th:only-of-type {\n",
       "        vertical-align: middle;\n",
       "    }\n",
       "\n",
       "    .dataframe tbody tr th {\n",
       "        vertical-align: top;\n",
       "    }\n",
       "\n",
       "    .dataframe thead th {\n",
       "        text-align: right;\n",
       "    }\n",
       "</style>\n",
       "<table border=\"1\" class=\"dataframe\">\n",
       "  <thead>\n",
       "    <tr style=\"text-align: right;\">\n",
       "      <th></th>\n",
       "      <th>GDP</th>\n",
       "      <th>EXP__INF</th>\n",
       "      <th>GDP_TELE</th>\n",
       "      <th>N_INTE_USERS</th>\n",
       "      <th>N_MOBILE__SUBS</th>\n",
       "      <th>POPULATION</th>\n",
       "    </tr>\n",
       "    <tr>\n",
       "      <th>datetime</th>\n",
       "      <th></th>\n",
       "      <th></th>\n",
       "      <th></th>\n",
       "      <th></th>\n",
       "      <th></th>\n",
       "      <th></th>\n",
       "    </tr>\n",
       "  </thead>\n",
       "  <tbody>\n",
       "    <tr>\n",
       "      <th>2002-01-01</th>\n",
       "      <td>93.4</td>\n",
       "      <td>485.0</td>\n",
       "      <td>542.0</td>\n",
       "      <td>150.0</td>\n",
       "      <td>449.0</td>\n",
       "      <td>4246.0</td>\n",
       "    </tr>\n",
       "    <tr>\n",
       "      <th>2002-04-01</th>\n",
       "      <td>87.4</td>\n",
       "      <td>527.0</td>\n",
       "      <td>554.0</td>\n",
       "      <td>168.0</td>\n",
       "      <td>482.0</td>\n",
       "      <td>4278.0</td>\n",
       "    </tr>\n",
       "    <tr>\n",
       "      <th>2002-07-01</th>\n",
       "      <td>87.2</td>\n",
       "      <td>568.0</td>\n",
       "      <td>566.0</td>\n",
       "      <td>185.0</td>\n",
       "      <td>515.0</td>\n",
       "      <td>4310.0</td>\n",
       "    </tr>\n",
       "    <tr>\n",
       "      <th>2002-10-01</th>\n",
       "      <td>86.5</td>\n",
       "      <td>609.0</td>\n",
       "      <td>577.0</td>\n",
       "      <td>202.0</td>\n",
       "      <td>547.0</td>\n",
       "      <td>4343.0</td>\n",
       "    </tr>\n",
       "    <tr>\n",
       "      <th>2003-01-01</th>\n",
       "      <td>96.4</td>\n",
       "      <td>651.0</td>\n",
       "      <td>589.0</td>\n",
       "      <td>220.0</td>\n",
       "      <td>580.0</td>\n",
       "      <td>4375.0</td>\n",
       "    </tr>\n",
       "    <tr>\n",
       "      <th>...</th>\n",
       "      <td>...</td>\n",
       "      <td>...</td>\n",
       "      <td>...</td>\n",
       "      <td>...</td>\n",
       "      <td>...</td>\n",
       "      <td>...</td>\n",
       "    </tr>\n",
       "    <tr>\n",
       "      <th>2019-01-01</th>\n",
       "      <td>975.2</td>\n",
       "      <td>1646.0</td>\n",
       "      <td>1836.0</td>\n",
       "      <td>3530.0</td>\n",
       "      <td>9534.0</td>\n",
       "      <td>6113.0</td>\n",
       "    </tr>\n",
       "    <tr>\n",
       "      <th>2019-04-01</th>\n",
       "      <td>1007.4</td>\n",
       "      <td>1726.0</td>\n",
       "      <td>1904.0</td>\n",
       "      <td>2758.0</td>\n",
       "      <td>9534.0</td>\n",
       "      <td>6139.0</td>\n",
       "    </tr>\n",
       "    <tr>\n",
       "      <th>2019-07-01</th>\n",
       "      <td>976.1</td>\n",
       "      <td>1807.0</td>\n",
       "      <td>1973.0</td>\n",
       "      <td>1985.0</td>\n",
       "      <td>9535.0</td>\n",
       "      <td>6165.0</td>\n",
       "    </tr>\n",
       "    <tr>\n",
       "      <th>2019-10-01</th>\n",
       "      <td>1004.7</td>\n",
       "      <td>1888.0</td>\n",
       "      <td>2042.0</td>\n",
       "      <td>1212.0</td>\n",
       "      <td>9535.0</td>\n",
       "      <td>6191.0</td>\n",
       "    </tr>\n",
       "    <tr>\n",
       "      <th>2020-01-01</th>\n",
       "      <td>1024.4</td>\n",
       "      <td>1968.0</td>\n",
       "      <td>2111.0</td>\n",
       "      <td>440.0</td>\n",
       "      <td>9536.0</td>\n",
       "      <td>6217.0</td>\n",
       "    </tr>\n",
       "  </tbody>\n",
       "</table>\n",
       "<p>73 rows × 6 columns</p>\n",
       "</div>"
      ],
      "text/plain": [
       "               GDP  EXP__INF  GDP_TELE  N_INTE_USERS  N_MOBILE__SUBS  \\\n",
       "datetime                                                               \n",
       "2002-01-01    93.4     485.0     542.0         150.0           449.0   \n",
       "2002-04-01    87.4     527.0     554.0         168.0           482.0   \n",
       "2002-07-01    87.2     568.0     566.0         185.0           515.0   \n",
       "2002-10-01    86.5     609.0     577.0         202.0           547.0   \n",
       "2003-01-01    96.4     651.0     589.0         220.0           580.0   \n",
       "...            ...       ...       ...           ...             ...   \n",
       "2019-01-01   975.2    1646.0    1836.0        3530.0          9534.0   \n",
       "2019-04-01  1007.4    1726.0    1904.0        2758.0          9534.0   \n",
       "2019-07-01   976.1    1807.0    1973.0        1985.0          9535.0   \n",
       "2019-10-01  1004.7    1888.0    2042.0        1212.0          9535.0   \n",
       "2020-01-01  1024.4    1968.0    2111.0         440.0          9536.0   \n",
       "\n",
       "            POPULATION  \n",
       "datetime                \n",
       "2002-01-01      4246.0  \n",
       "2002-04-01      4278.0  \n",
       "2002-07-01      4310.0  \n",
       "2002-10-01      4343.0  \n",
       "2003-01-01      4375.0  \n",
       "...                ...  \n",
       "2019-01-01      6113.0  \n",
       "2019-04-01      6139.0  \n",
       "2019-07-01      6165.0  \n",
       "2019-10-01      6191.0  \n",
       "2020-01-01      6217.0  \n",
       "\n",
       "[73 rows x 6 columns]"
      ]
     },
     "execution_count": 11,
     "metadata": {},
     "output_type": "execute_result"
    }
   ],
   "source": [
    "df"
   ]
  },
  {
   "cell_type": "code",
   "execution_count": 12,
   "id": "defc1328",
   "metadata": {},
   "outputs": [],
   "source": [
    "#df.to_csv('da.csv',index=False)"
   ]
  },
  {
   "cell_type": "code",
   "execution_count": 13,
   "id": "e59242c2",
   "metadata": {},
   "outputs": [],
   "source": [
    "#df=df.iloc[:,df.columns!='GDP'].div(10000).round()\n",
    "#df"
   ]
  },
  {
   "cell_type": "code",
   "execution_count": 14,
   "id": "1d48e196",
   "metadata": {},
   "outputs": [
    {
     "data": {
      "text/html": [
       "<div>\n",
       "<style scoped>\n",
       "    .dataframe tbody tr th:only-of-type {\n",
       "        vertical-align: middle;\n",
       "    }\n",
       "\n",
       "    .dataframe tbody tr th {\n",
       "        vertical-align: top;\n",
       "    }\n",
       "\n",
       "    .dataframe thead th {\n",
       "        text-align: right;\n",
       "    }\n",
       "</style>\n",
       "<table border=\"1\" class=\"dataframe\">\n",
       "  <thead>\n",
       "    <tr style=\"text-align: right;\">\n",
       "      <th></th>\n",
       "      <th>GDP</th>\n",
       "      <th>EXP__INF</th>\n",
       "      <th>GDP_TELE</th>\n",
       "      <th>N_INTE_USERS</th>\n",
       "      <th>N_MOBILE__SUBS</th>\n",
       "      <th>POPULATION</th>\n",
       "    </tr>\n",
       "    <tr>\n",
       "      <th>datetime</th>\n",
       "      <th></th>\n",
       "      <th></th>\n",
       "      <th></th>\n",
       "      <th></th>\n",
       "      <th></th>\n",
       "      <th></th>\n",
       "    </tr>\n",
       "  </thead>\n",
       "  <tbody>\n",
       "    <tr>\n",
       "      <th>2002-01-01</th>\n",
       "      <td>93.4</td>\n",
       "      <td>485.0</td>\n",
       "      <td>542.0</td>\n",
       "      <td>150.0</td>\n",
       "      <td>449.0</td>\n",
       "      <td>4246.0</td>\n",
       "    </tr>\n",
       "    <tr>\n",
       "      <th>2002-04-01</th>\n",
       "      <td>87.4</td>\n",
       "      <td>527.0</td>\n",
       "      <td>554.0</td>\n",
       "      <td>168.0</td>\n",
       "      <td>482.0</td>\n",
       "      <td>4278.0</td>\n",
       "    </tr>\n",
       "    <tr>\n",
       "      <th>2002-07-01</th>\n",
       "      <td>87.2</td>\n",
       "      <td>568.0</td>\n",
       "      <td>566.0</td>\n",
       "      <td>185.0</td>\n",
       "      <td>515.0</td>\n",
       "      <td>4310.0</td>\n",
       "    </tr>\n",
       "    <tr>\n",
       "      <th>2002-10-01</th>\n",
       "      <td>86.5</td>\n",
       "      <td>609.0</td>\n",
       "      <td>577.0</td>\n",
       "      <td>202.0</td>\n",
       "      <td>547.0</td>\n",
       "      <td>4343.0</td>\n",
       "    </tr>\n",
       "    <tr>\n",
       "      <th>2003-01-01</th>\n",
       "      <td>96.4</td>\n",
       "      <td>651.0</td>\n",
       "      <td>589.0</td>\n",
       "      <td>220.0</td>\n",
       "      <td>580.0</td>\n",
       "      <td>4375.0</td>\n",
       "    </tr>\n",
       "  </tbody>\n",
       "</table>\n",
       "</div>"
      ],
      "text/plain": [
       "             GDP  EXP__INF  GDP_TELE  N_INTE_USERS  N_MOBILE__SUBS  POPULATION\n",
       "datetime                                                                      \n",
       "2002-01-01  93.4     485.0     542.0         150.0           449.0      4246.0\n",
       "2002-04-01  87.4     527.0     554.0         168.0           482.0      4278.0\n",
       "2002-07-01  87.2     568.0     566.0         185.0           515.0      4310.0\n",
       "2002-10-01  86.5     609.0     577.0         202.0           547.0      4343.0\n",
       "2003-01-01  96.4     651.0     589.0         220.0           580.0      4375.0"
      ]
     },
     "execution_count": 14,
     "metadata": {},
     "output_type": "execute_result"
    }
   ],
   "source": [
    "df.head()"
   ]
  },
  {
   "cell_type": "code",
   "execution_count": 15,
   "id": "08bffdca",
   "metadata": {},
   "outputs": [],
   "source": [
    "x=df.drop(['GDP'],axis=1)\n",
    "y=df['GDP']"
   ]
  },
  {
   "cell_type": "code",
   "execution_count": 16,
   "id": "9b8e9734",
   "metadata": {},
   "outputs": [
    {
     "name": "stdout",
     "output_type": "stream",
     "text": [
      "0.9835576246621728\n"
     ]
    }
   ],
   "source": [
    "from sklearn.linear_model import LinearRegression\n",
    "\n",
    "#initiate linear regression model\n",
    "model = LinearRegression()\n",
    "\n",
    "\n",
    "\n",
    "#fit regression model\n",
    "model.fit(x, y)\n",
    "\n",
    "#calculate R-squared of regression model\n",
    "r_squared = model.score(x, y)\n",
    "\n",
    "#view R-squared value\n",
    "print(r_squared)"
   ]
  },
  {
   "cell_type": "code",
   "execution_count": 17,
   "id": "757ecc3e",
   "metadata": {},
   "outputs": [],
   "source": [
    "df=df.astype('float')"
   ]
  },
  {
   "cell_type": "markdown",
   "id": "jJwbjtogQjgb",
   "metadata": {
    "id": "jJwbjtogQjgb"
   },
   "source": [
    "#VAR Model"
   ]
  },
  {
   "cell_type": "markdown",
   "id": "b3-o5q52Qn9b",
   "metadata": {
    "id": "b3-o5q52Qn9b"
   },
   "source": [
    "### 1- Visualize the Time Series"
   ]
  },
  {
   "cell_type": "code",
   "execution_count": 18,
   "id": "epn1L_6GQiUj",
   "metadata": {
    "colab": {
     "base_uri": "https://localhost:8080/",
     "height": 553
    },
    "id": "epn1L_6GQiUj",
    "outputId": "07bae7da-2bb2-4517-e516-bc2102aa41ad"
   },
   "outputs": [
    {
     "data": {
      "image/png": "[encoded data removed]",
      "text/plain": [
       "<Figure size 1800x900 with 6 Axes>"
      ]
     },
     "metadata": {},
     "output_type": "display_data"
    }
   ],
   "source": [
    "# Plot\n",
    "fig, axes = plt.subplots(nrows=2, ncols=3, dpi=90, figsize=(20,10))\n",
    "for i, ax in enumerate(axes.flatten()):\n",
    "    data = df[df.columns[i]]\n",
    "    ax.plot(data, color='red', linewidth=1)\n",
    "    # Decorations\n",
    "    ax.set_title(df.columns[i])\n",
    "    ax.xaxis.set_ticks_position('none')\n",
    "    ax.yaxis.set_ticks_position('none')\n",
    "    ax.spines[\"top\"].set_alpha(0)\n",
    "    ax.tick_params(labelsize=3)\n",
    "\n",
    "plt.tight_layout();"
   ]
  },
  {
   "cell_type": "markdown",
   "id": "pStB6rRPS_4r",
   "metadata": {
    "id": "pStB6rRPS_4r"
   },
   "source": [
    "### 2-  Testing Causation using Granger’s Causality Test"
   ]
  },
  {
   "cell_type": "code",
   "execution_count": 19,
   "id": "0ZpkDlg4SAH5",
   "metadata": {
    "colab": {
     "base_uri": "https://localhost:8080/",
     "height": 709
    },
    "id": "0ZpkDlg4SAH5",
    "outputId": "80408446-fe8a-4201-a97c-f3a9295a170e"
   },
   "outputs": [
    {
     "name": "stderr",
     "output_type": "stream",
     "text": [
      "C:\\Users\\20111\\anaconda3\\lib\\site-packages\\statsmodels\\tsa\\stattools.py:1488: FutureWarning: verbose is deprecated since functions should not print results\n",
      "  warnings.warn(\n",
      "C:\\Users\\20111\\anaconda3\\lib\\site-packages\\statsmodels\\tsa\\stattools.py:1488: FutureWarning: verbose is deprecated since functions should not print results\n",
      "  warnings.warn(\n",
      "C:\\Users\\20111\\anaconda3\\lib\\site-packages\\statsmodels\\tsa\\stattools.py:1488: FutureWarning: verbose is deprecated since functions should not print results\n",
      "  warnings.warn(\n",
      "C:\\Users\\20111\\anaconda3\\lib\\site-packages\\statsmodels\\tsa\\stattools.py:1488: FutureWarning: verbose is deprecated since functions should not print results\n",
      "  warnings.warn(\n",
      "C:\\Users\\20111\\anaconda3\\lib\\site-packages\\statsmodels\\tsa\\stattools.py:1488: FutureWarning: verbose is deprecated since functions should not print results\n",
      "  warnings.warn(\n",
      "C:\\Users\\20111\\anaconda3\\lib\\site-packages\\statsmodels\\tsa\\stattools.py:1488: FutureWarning: verbose is deprecated since functions should not print results\n",
      "  warnings.warn(\n",
      "C:\\Users\\20111\\anaconda3\\lib\\site-packages\\statsmodels\\tsa\\stattools.py:1488: FutureWarning: verbose is deprecated since functions should not print results\n",
      "  warnings.warn(\n",
      "C:\\Users\\20111\\anaconda3\\lib\\site-packages\\statsmodels\\tsa\\stattools.py:1488: FutureWarning: verbose is deprecated since functions should not print results\n",
      "  warnings.warn(\n",
      "C:\\Users\\20111\\anaconda3\\lib\\site-packages\\statsmodels\\tsa\\stattools.py:1488: FutureWarning: verbose is deprecated since functions should not print results\n",
      "  warnings.warn(\n",
      "C:\\Users\\20111\\anaconda3\\lib\\site-packages\\statsmodels\\tsa\\stattools.py:1488: FutureWarning: verbose is deprecated since functions should not print results\n",
      "  warnings.warn(\n",
      "C:\\Users\\20111\\anaconda3\\lib\\site-packages\\statsmodels\\tsa\\stattools.py:1488: FutureWarning: verbose is deprecated since functions should not print results\n",
      "  warnings.warn(\n",
      "C:\\Users\\20111\\anaconda3\\lib\\site-packages\\statsmodels\\tsa\\stattools.py:1488: FutureWarning: verbose is deprecated since functions should not print results\n",
      "  warnings.warn(\n",
      "C:\\Users\\20111\\anaconda3\\lib\\site-packages\\statsmodels\\tsa\\stattools.py:1488: FutureWarning: verbose is deprecated since functions should not print results\n",
      "  warnings.warn(\n",
      "C:\\Users\\20111\\anaconda3\\lib\\site-packages\\statsmodels\\tsa\\stattools.py:1488: FutureWarning: verbose is deprecated since functions should not print results\n",
      "  warnings.warn(\n",
      "C:\\Users\\20111\\anaconda3\\lib\\site-packages\\statsmodels\\tsa\\stattools.py:1488: FutureWarning: verbose is deprecated since functions should not print results\n",
      "  warnings.warn(\n",
      "C:\\Users\\20111\\anaconda3\\lib\\site-packages\\statsmodels\\tsa\\stattools.py:1488: FutureWarning: verbose is deprecated since functions should not print results\n",
      "  warnings.warn(\n",
      "C:\\Users\\20111\\anaconda3\\lib\\site-packages\\statsmodels\\tsa\\stattools.py:1488: FutureWarning: verbose is deprecated since functions should not print results\n",
      "  warnings.warn(\n",
      "C:\\Users\\20111\\anaconda3\\lib\\site-packages\\statsmodels\\tsa\\stattools.py:1488: FutureWarning: verbose is deprecated since functions should not print results\n",
      "  warnings.warn(\n",
      "C:\\Users\\20111\\anaconda3\\lib\\site-packages\\statsmodels\\tsa\\stattools.py:1488: FutureWarning: verbose is deprecated since functions should not print results\n",
      "  warnings.warn(\n",
      "C:\\Users\\20111\\anaconda3\\lib\\site-packages\\statsmodels\\tsa\\stattools.py:1488: FutureWarning: verbose is deprecated since functions should not print results\n",
      "  warnings.warn(\n",
      "C:\\Users\\20111\\anaconda3\\lib\\site-packages\\statsmodels\\tsa\\stattools.py:1488: FutureWarning: verbose is deprecated since functions should not print results\n",
      "  warnings.warn(\n",
      "C:\\Users\\20111\\anaconda3\\lib\\site-packages\\statsmodels\\tsa\\stattools.py:1488: FutureWarning: verbose is deprecated since functions should not print results\n",
      "  warnings.warn(\n",
      "C:\\Users\\20111\\anaconda3\\lib\\site-packages\\statsmodels\\tsa\\stattools.py:1488: FutureWarning: verbose is deprecated since functions should not print results\n",
      "  warnings.warn(\n",
      "C:\\Users\\20111\\anaconda3\\lib\\site-packages\\statsmodels\\tsa\\stattools.py:1488: FutureWarning: verbose is deprecated since functions should not print results\n",
      "  warnings.warn(\n",
      "C:\\Users\\20111\\anaconda3\\lib\\site-packages\\statsmodels\\tsa\\stattools.py:1488: FutureWarning: verbose is deprecated since functions should not print results\n",
      "  warnings.warn(\n",
      "C:\\Users\\20111\\anaconda3\\lib\\site-packages\\statsmodels\\tsa\\stattools.py:1488: FutureWarning: verbose is deprecated since functions should not print results\n",
      "  warnings.warn(\n",
      "C:\\Users\\20111\\anaconda3\\lib\\site-packages\\statsmodels\\tsa\\stattools.py:1488: FutureWarning: verbose is deprecated since functions should not print results\n",
      "  warnings.warn(\n",
      "C:\\Users\\20111\\anaconda3\\lib\\site-packages\\statsmodels\\tsa\\stattools.py:1488: FutureWarning: verbose is deprecated since functions should not print results\n",
      "  warnings.warn(\n",
      "C:\\Users\\20111\\anaconda3\\lib\\site-packages\\statsmodels\\tsa\\stattools.py:1488: FutureWarning: verbose is deprecated since functions should not print results\n",
      "  warnings.warn(\n",
      "C:\\Users\\20111\\anaconda3\\lib\\site-packages\\statsmodels\\tsa\\stattools.py:1488: FutureWarning: verbose is deprecated since functions should not print results\n",
      "  warnings.warn(\n",
      "C:\\Users\\20111\\anaconda3\\lib\\site-packages\\statsmodels\\tsa\\stattools.py:1488: FutureWarning: verbose is deprecated since functions should not print results\n",
      "  warnings.warn(\n",
      "C:\\Users\\20111\\anaconda3\\lib\\site-packages\\statsmodels\\tsa\\stattools.py:1488: FutureWarning: verbose is deprecated since functions should not print results\n",
      "  warnings.warn(\n",
      "C:\\Users\\20111\\anaconda3\\lib\\site-packages\\statsmodels\\tsa\\stattools.py:1488: FutureWarning: verbose is deprecated since functions should not print results\n",
      "  warnings.warn(\n",
      "C:\\Users\\20111\\anaconda3\\lib\\site-packages\\statsmodels\\tsa\\stattools.py:1488: FutureWarning: verbose is deprecated since functions should not print results\n",
      "  warnings.warn(\n",
      "C:\\Users\\20111\\anaconda3\\lib\\site-packages\\statsmodels\\tsa\\stattools.py:1488: FutureWarning: verbose is deprecated since functions should not print results\n",
      "  warnings.warn(\n",
      "C:\\Users\\20111\\anaconda3\\lib\\site-packages\\statsmodels\\tsa\\stattools.py:1488: FutureWarning: verbose is deprecated since functions should not print results\n",
      "  warnings.warn(\n"
     ]
    },
    {
     "data": {
      "text/html": [
       "<div>\n",
       "<style scoped>\n",
       "    .dataframe tbody tr th:only-of-type {\n",
       "        vertical-align: middle;\n",
       "    }\n",
       "\n",
       "    .dataframe tbody tr th {\n",
       "        vertical-align: top;\n",
       "    }\n",
       "\n",
       "    .dataframe thead th {\n",
       "        text-align: right;\n",
       "    }\n",
       "</style>\n",
       "<table border=\"1\" class=\"dataframe\">\n",
       "  <thead>\n",
       "    <tr style=\"text-align: right;\">\n",
       "      <th></th>\n",
       "      <th>GDP_x</th>\n",
       "      <th>EXP__INF_x</th>\n",
       "      <th>GDP_TELE_x</th>\n",
       "      <th>N_INTE_USERS_x</th>\n",
       "      <th>N_MOBILE__SUBS_x</th>\n",
       "      <th>POPULATION_x</th>\n",
       "    </tr>\n",
       "  </thead>\n",
       "  <tbody>\n",
       "    <tr>\n",
       "      <th>GDP_y</th>\n",
       "      <td>1.0000</td>\n",
       "      <td>0.3111</td>\n",
       "      <td>0.5549</td>\n",
       "      <td>0.4543</td>\n",
       "      <td>0.1116</td>\n",
       "      <td>0.0025</td>\n",
       "    </tr>\n",
       "    <tr>\n",
       "      <th>EXP__INF_y</th>\n",
       "      <td>0.6619</td>\n",
       "      <td>1.0000</td>\n",
       "      <td>0.2989</td>\n",
       "      <td>0.1854</td>\n",
       "      <td>0.0196</td>\n",
       "      <td>0.4438</td>\n",
       "    </tr>\n",
       "    <tr>\n",
       "      <th>GDP_TELE_y</th>\n",
       "      <td>0.0976</td>\n",
       "      <td>0.0002</td>\n",
       "      <td>1.0000</td>\n",
       "      <td>0.0076</td>\n",
       "      <td>0.0001</td>\n",
       "      <td>0.1623</td>\n",
       "    </tr>\n",
       "    <tr>\n",
       "      <th>N_INTE_USERS_y</th>\n",
       "      <td>0.0704</td>\n",
       "      <td>0.7174</td>\n",
       "      <td>0.0017</td>\n",
       "      <td>1.0000</td>\n",
       "      <td>0.1664</td>\n",
       "      <td>0.1198</td>\n",
       "    </tr>\n",
       "    <tr>\n",
       "      <th>N_MOBILE__SUBS_y</th>\n",
       "      <td>0.0000</td>\n",
       "      <td>0.0000</td>\n",
       "      <td>0.3288</td>\n",
       "      <td>0.0661</td>\n",
       "      <td>1.0000</td>\n",
       "      <td>0.0190</td>\n",
       "    </tr>\n",
       "    <tr>\n",
       "      <th>POPULATION_y</th>\n",
       "      <td>0.0000</td>\n",
       "      <td>0.0000</td>\n",
       "      <td>0.0000</td>\n",
       "      <td>0.0000</td>\n",
       "      <td>0.0000</td>\n",
       "      <td>1.0000</td>\n",
       "    </tr>\n",
       "  </tbody>\n",
       "</table>\n",
       "</div>"
      ],
      "text/plain": [
       "                   GDP_x  EXP__INF_x  GDP_TELE_x  N_INTE_USERS_x  \\\n",
       "GDP_y             1.0000      0.3111      0.5549          0.4543   \n",
       "EXP__INF_y        0.6619      1.0000      0.2989          0.1854   \n",
       "GDP_TELE_y        0.0976      0.0002      1.0000          0.0076   \n",
       "N_INTE_USERS_y    0.0704      0.7174      0.0017          1.0000   \n",
       "N_MOBILE__SUBS_y  0.0000      0.0000      0.3288          0.0661   \n",
       "POPULATION_y      0.0000      0.0000      0.0000          0.0000   \n",
       "\n",
       "                  N_MOBILE__SUBS_x  POPULATION_x  \n",
       "GDP_y                       0.1116        0.0025  \n",
       "EXP__INF_y                  0.0196        0.4438  \n",
       "GDP_TELE_y                  0.0001        0.1623  \n",
       "N_INTE_USERS_y              0.1664        0.1198  \n",
       "N_MOBILE__SUBS_y            1.0000        0.0190  \n",
       "POPULATION_y                0.0000        1.0000  "
      ]
     },
     "execution_count": 19,
     "metadata": {},
     "output_type": "execute_result"
    }
   ],
   "source": [
    "from statsmodels.tsa.stattools import grangercausalitytests\n",
    "maxlag=2\n",
    "test = 'ssr_chi2test'\n",
    "def grangers_causation_matrix(data, variables, test='ssr_chi2test', verbose=False):    \n",
    "    \"\"\"Check Granger Causality of all possible combinations of the Time series.\n",
    "    The rows are the response variable, columns are predictors. The values in the table \n",
    "    are the P-Values. P-Values lesser than the significance level (0.05), implies \n",
    "    the Null Hypothesis that the coefficients of the corresponding past values is \n",
    "    zero, that is, the X does not cause Y can be rejected.\n",
    "\n",
    "    data      : pandas dataframe containing the time series variables\n",
    "    variables : list containing names of the time series variables.\n",
    "    \"\"\"\n",
    "    df = pd.DataFrame(np.zeros((len(variables), len(variables))), columns=variables, index=variables)\n",
    "    for c in df.columns:\n",
    "        for r in df.index:\n",
    "            test_result = grangercausalitytests(data[[r, c]], maxlag=maxlag, verbose=False)\n",
    "            p_values = [round(test_result[i+1][0][test][1],4) for i in range(maxlag)]\n",
    "            if verbose: print(f'Y = {r}, X = {c}, P Values = {p_values}')\n",
    "            min_p_value = np.min(p_values)\n",
    "            df.loc[r, c] = min_p_value\n",
    "    df.columns = [var + '_x' for var in variables]\n",
    "    df.index = [var + '_y' for var in variables]\n",
    "    return df\n",
    "\n",
    "grangers_causation_matrix(df, variables = df.columns)    "
   ]
  },
  {
   "cell_type": "code",
   "execution_count": 20,
   "id": "DNoIkCUaTOpc",
   "metadata": {
    "colab": {
     "base_uri": "https://localhost:8080/",
     "height": 206
    },
    "id": "DNoIkCUaTOpc",
    "outputId": "ebf959d8-b2b7-485f-fe3e-08bc09ac406f"
   },
   "outputs": [],
   "source": [
    "#df.drop(columns=['EXP__INF'], inplace=True)\n",
    "#df.drop(columns=['Exp_vehicles','Exp_food','Imp_metel','Exp_metel','Net_Foreign','Exp_chemical','Exp_oil','Imp_food','Imp_vehicles',\"Imp_chemical\"], inplace=True)\n",
    "#df[0:4]\n"
   ]
  },
  {
   "cell_type": "markdown",
   "id": "klYT_1c9T5uv",
   "metadata": {
    "id": "klYT_1c9T5uv"
   },
   "source": [
    "### 3- Cointegration Test اختبار التكامل المشترك"
   ]
  },
  {
   "cell_type": "code",
   "execution_count": 21,
   "id": "VXqGwO8UT0ux",
   "metadata": {
    "colab": {
     "base_uri": "https://localhost:8080/"
    },
    "id": "VXqGwO8UT0ux",
    "outputId": "317c77ec-23ed-487b-c502-389eee5a2ece"
   },
   "outputs": [
    {
     "name": "stdout",
     "output_type": "stream",
     "text": [
      "Name   ::  Test Stat > C(95%)    =>   Signif  \n",
      " ----------------------------------------\n",
      "GDP    ::  157.036   > 83.9383   =>   True\n",
      "EXP__INF ::  103.521   > 60.0627   =>   True\n",
      "GDP_TELE ::  64.951    > 40.1749   =>   True\n",
      "N_INTE_USERS ::  38.815    > 24.2761   =>   True\n",
      "N_MOBILE__SUBS ::  17.296    > 12.3212   =>   True\n",
      "POPULATION ::  0.835     > 4.1296    =>   False\n"
     ]
    }
   ],
   "source": [
    "from statsmodels.tsa.vector_ar.vecm import coint_johansen\n",
    "\n",
    "def cointegration_test(df, alpha=0.05): \n",
    "    \"\"\"Perform Johanson's Cointegration Test and Report Summary\"\"\"\n",
    "    out = coint_johansen(df,-1,5)\n",
    "    d = {'0.90':0, '0.95':1, '0.99':2}\n",
    "    traces = out.lr1\n",
    "    cvts = out.cvt[:, d[str(1-alpha)]]\n",
    "    def adjust(val, length= 6): return str(val).ljust(length)\n",
    "\n",
    "    # Summary\n",
    "    print('Name   ::  Test Stat > C(95%)    =>   Signif  \\n', '--'*20)\n",
    "    for col, trace, cvt in zip(df.columns, traces, cvts):\n",
    "        print(adjust(col), ':: ', adjust(round(trace,3), 9), \">\", adjust(cvt, 8), ' =>  ' , trace > cvt)\n",
    "\n",
    "cointegration_test(df)"
   ]
  },
  {
   "cell_type": "markdown",
   "id": "LdXQLLW3VI9S",
   "metadata": {
    "id": "LdXQLLW3VI9S"
   },
   "source": [
    "###### 5- Check for Stationarity and Make the Time Series Stationary "
   ]
  },
  {
   "cell_type": "code",
   "execution_count": 22,
   "id": "MJFQ5bNQ88Ha",
   "metadata": {
    "id": "MJFQ5bNQ88Ha"
   },
   "outputs": [],
   "source": [
    "def adf_test(series,title=''):\n",
    "    \"\"\"\n",
    "    Pass in a time series and an optional title, returns an ADF report\n",
    "    \"\"\"\n",
    "    print(f'Augmented Dickey-Fuller Test: {title}')\n",
    "    result = adfuller(series.dropna(),autolag='AIC') # .dropna() handles differenced data\n",
    "    labels = ['ADF test statistic','p-value','# lags used','# observations']\n",
    "    out = pd.Series(result[0:4],index=labels)\n",
    "    for key,val in result[4].items():\n",
    "        out[f'critical value ({key})']=val\n",
    "    print(out.to_string())          # .to_string() removes the line \"dtype: float64\"\n",
    "    if result[1] <= 0.05:\n",
    "        print(\"Strong evidence against the null hypothesis\")\n",
    "        print(\"Reject the null hypothesis\")\n",
    "        print(\"Data has no unit root and is stationary\")\n",
    "    else:\n",
    "        print(\"Weak evidence against the null hypothesis\")\n",
    "        print(\"Fail to reject the null hypothesis\")\n",
    "        print(\"Data has a unit root and is non-stationary\")"
   ]
  },
  {
   "cell_type": "code",
   "execution_count": 23,
   "id": "tB_Q53U190I6",
   "metadata": {
    "colab": {
     "base_uri": "https://localhost:8080/"
    },
    "id": "tB_Q53U190I6",
    "outputId": "8e350285-e282-4d0f-ecec-e5a4f42f080e"
   },
   "outputs": [
    {
     "name": "stdout",
     "output_type": "stream",
     "text": [
      "Augmented Dickey-Fuller Test: \n",
      "ADF test statistic       1.243711\n",
      "p-value                  0.996274\n",
      "# lags used              4.000000\n",
      "# observations          68.000000\n",
      "critical value (1%)     -3.530399\n",
      "critical value (5%)     -2.905087\n",
      "critical value (10%)    -2.590001\n",
      "Weak evidence against the null hypothesis\n",
      "Fail to reject the null hypothesis\n",
      "Data has a unit root and is non-stationary\n"
     ]
    }
   ],
   "source": [
    "adf_test(df['GDP'])"
   ]
  },
  {
   "cell_type": "code",
   "execution_count": 24,
   "id": "vAlLUHjQALFg",
   "metadata": {
    "id": "vAlLUHjQALFg"
   },
   "outputs": [],
   "source": [
    "def adfuller_test(series, signif=0.05, name='', verbose=False):\n",
    "    \"\"\"Perform ADFuller to test for Stationarity of given series and print report\"\"\"\n",
    "    r = adfuller(series, autolag='AIC')\n",
    "    output = {'test_statistic':round(r[0], 4), 'pvalue':round(r[1], 4), 'n_lags':round(r[2], 4), 'n_obs':r[3]}\n",
    "    p_value = output['pvalue'] \n",
    "    def adjust(val, length= 6): return str(val).ljust(length)\n",
    "\n",
    "    # Print Summary\n",
    "    print(f'    Augmented Dickey-Fuller Test on \"{name}\"', \"\\n   \", '-'*47)\n",
    "    print(f' Null Hypothesis: Data has unit root. Non-Stationary.')\n",
    "    print(f' Significance Level    = {signif}')\n",
    "    print(f' Test Statistic        = {output[\"test_statistic\"]}')\n",
    "    print(f' No. Lags Chosen       = {output[\"n_lags\"]}')\n",
    "\n",
    "    for key,val in r[4].items():\n",
    "        print(f' Critical value {adjust(key)} = {round(val, 3)}')\n",
    "\n",
    "    if p_value <= signif:\n",
    "        print(f\" => P-Value = {p_value}. Rejecting Null Hypothesis.\")\n",
    "        print(f\" => Series is Stationary.\")\n",
    "    else:\n",
    "        print(f\" => P-Value = {p_value}. Weak evidence to reject the Null Hypothesis.\")\n",
    "        print(f\" => Series is Non-Stationary.\") "
   ]
  },
  {
   "cell_type": "code",
   "execution_count": 25,
   "id": "h3iX5t_9AM8F",
   "metadata": {
    "colab": {
     "base_uri": "https://localhost:8080/"
    },
    "id": "h3iX5t_9AM8F",
    "outputId": "d292da40-a061-401b-c58c-1566214b9c6a"
   },
   "outputs": [
    {
     "name": "stderr",
     "output_type": "stream",
     "text": [
      "C:\\Users\\20111\\AppData\\Local\\Temp\\ipykernel_12988\\1973961402.py:1: FutureWarning: iteritems is deprecated and will be removed in a future version. Use .items instead.\n",
      "  for name, column in df.iteritems():\n"
     ]
    },
    {
     "name": "stdout",
     "output_type": "stream",
     "text": [
      "    Augmented Dickey-Fuller Test on \"GDP\" \n",
      "    -----------------------------------------------\n",
      " Null Hypothesis: Data has unit root. Non-Stationary.\n",
      " Significance Level    = 0.05\n",
      " Test Statistic        = 1.2437\n",
      " No. Lags Chosen       = 4\n",
      " Critical value 1%     = -3.53\n",
      " Critical value 5%     = -2.905\n",
      " Critical value 10%    = -2.59\n",
      " => P-Value = 0.9963. Weak evidence to reject the Null Hypothesis.\n",
      " => Series is Non-Stationary.\n",
      "\n",
      "\n",
      "    Augmented Dickey-Fuller Test on \"EXP__INF\" \n",
      "    -----------------------------------------------\n",
      " Null Hypothesis: Data has unit root. Non-Stationary.\n",
      " Significance Level    = 0.05\n",
      " Test Statistic        = -2.0522\n",
      " No. Lags Chosen       = 5\n",
      " Critical value 1%     = -3.532\n",
      " Critical value 5%     = -2.906\n",
      " Critical value 10%    = -2.59\n",
      " => P-Value = 0.2641. Weak evidence to reject the Null Hypothesis.\n",
      " => Series is Non-Stationary.\n",
      "\n",
      "\n",
      "    Augmented Dickey-Fuller Test on \"GDP_TELE\" \n",
      "    -----------------------------------------------\n",
      " Null Hypothesis: Data has unit root. Non-Stationary.\n",
      " Significance Level    = 0.05\n",
      " Test Statistic        = 1.1812\n",
      " No. Lags Chosen       = 1\n",
      " Critical value 1%     = -3.526\n",
      " Critical value 5%     = -2.903\n",
      " Critical value 10%    = -2.589\n",
      " => P-Value = 0.9959. Weak evidence to reject the Null Hypothesis.\n",
      " => Series is Non-Stationary.\n",
      "\n",
      "\n",
      "    Augmented Dickey-Fuller Test on \"N_INTE_USERS\" \n",
      "    -----------------------------------------------\n",
      " Null Hypothesis: Data has unit root. Non-Stationary.\n",
      " Significance Level    = 0.05\n",
      " Test Statistic        = -2.5333\n",
      " No. Lags Chosen       = 5\n",
      " Critical value 1%     = -3.532\n",
      " Critical value 5%     = -2.906\n",
      " Critical value 10%    = -2.59\n",
      " => P-Value = 0.1076. Weak evidence to reject the Null Hypothesis.\n",
      " => Series is Non-Stationary.\n",
      "\n",
      "\n",
      "    Augmented Dickey-Fuller Test on \"N_MOBILE__SUBS\" \n",
      "    -----------------------------------------------\n",
      " Null Hypothesis: Data has unit root. Non-Stationary.\n",
      " Significance Level    = 0.05\n",
      " Test Statistic        = -1.8961\n",
      " No. Lags Chosen       = 1\n",
      " Critical value 1%     = -3.526\n",
      " Critical value 5%     = -2.903\n",
      " Critical value 10%    = -2.589\n",
      " => P-Value = 0.3339. Weak evidence to reject the Null Hypothesis.\n",
      " => Series is Non-Stationary.\n",
      "\n",
      "\n",
      "    Augmented Dickey-Fuller Test on \"POPULATION\" \n",
      "    -----------------------------------------------\n",
      " Null Hypothesis: Data has unit root. Non-Stationary.\n",
      " Significance Level    = 0.05\n",
      " Test Statistic        = -1.1\n",
      " No. Lags Chosen       = 1\n",
      " Critical value 1%     = -3.526\n",
      " Critical value 5%     = -2.903\n",
      " Critical value 10%    = -2.589\n",
      " => P-Value = 0.7151. Weak evidence to reject the Null Hypothesis.\n",
      " => Series is Non-Stationary.\n",
      "\n",
      "\n"
     ]
    }
   ],
   "source": [
    "for name, column in df.iteritems():\n",
    "    adfuller_test(column, name=column.name)\n",
    "    print('\\n')"
   ]
  },
  {
   "cell_type": "code",
   "execution_count": 26,
   "id": "yPHmBey1An1K",
   "metadata": {
    "id": "yPHmBey1An1K"
   },
   "outputs": [],
   "source": [
    "# 1st difference\n",
    "df_differenced = df.diff().dropna()"
   ]
  },
  {
   "cell_type": "code",
   "execution_count": 27,
   "id": "ORnoddqYAs_Z",
   "metadata": {
    "colab": {
     "base_uri": "https://localhost:8080/"
    },
    "id": "ORnoddqYAs_Z",
    "outputId": "566d86cb-6134-4179-bea3-a937bf3051ca"
   },
   "outputs": [
    {
     "name": "stdout",
     "output_type": "stream",
     "text": [
      "    Augmented Dickey-Fuller Test on \"GDP\" \n",
      "    -----------------------------------------------\n",
      " Null Hypothesis: Data has unit root. Non-Stationary.\n",
      " Significance Level    = 0.05\n",
      " Test Statistic        = -3.3218\n",
      " No. Lags Chosen       = 3\n",
      " Critical value 1%     = -3.53\n",
      " Critical value 5%     = -2.905\n",
      " Critical value 10%    = -2.59\n",
      " => P-Value = 0.0139. Rejecting Null Hypothesis.\n",
      " => Series is Stationary.\n",
      "\n",
      "\n",
      "    Augmented Dickey-Fuller Test on \"EXP__INF\" \n",
      "    -----------------------------------------------\n",
      " Null Hypothesis: Data has unit root. Non-Stationary.\n",
      " Significance Level    = 0.05\n",
      " Test Statistic        = -1.8119\n",
      " No. Lags Chosen       = 4\n",
      " Critical value 1%     = -3.532\n",
      " Critical value 5%     = -2.906\n",
      " Critical value 10%    = -2.59\n",
      " => P-Value = 0.3746. Weak evidence to reject the Null Hypothesis.\n",
      " => Series is Non-Stationary.\n",
      "\n",
      "\n"
     ]
    },
    {
     "name": "stderr",
     "output_type": "stream",
     "text": [
      "C:\\Users\\20111\\AppData\\Local\\Temp\\ipykernel_12988\\1957205119.py:2: FutureWarning: iteritems is deprecated and will be removed in a future version. Use .items instead.\n",
      "  for name, column in df_differenced.iteritems():\n"
     ]
    },
    {
     "name": "stdout",
     "output_type": "stream",
     "text": [
      "    Augmented Dickey-Fuller Test on \"GDP_TELE\" \n",
      "    -----------------------------------------------\n",
      " Null Hypothesis: Data has unit root. Non-Stationary.\n",
      " Significance Level    = 0.05\n",
      " Test Statistic        = -1.4321\n",
      " No. Lags Chosen       = 0\n",
      " Critical value 1%     = -3.526\n",
      " Critical value 5%     = -2.903\n",
      " Critical value 10%    = -2.589\n",
      " => P-Value = 0.5668. Weak evidence to reject the Null Hypothesis.\n",
      " => Series is Non-Stationary.\n",
      "\n",
      "\n",
      "    Augmented Dickey-Fuller Test on \"N_INTE_USERS\" \n",
      "    -----------------------------------------------\n",
      " Null Hypothesis: Data has unit root. Non-Stationary.\n",
      " Significance Level    = 0.05\n",
      " Test Statistic        = -2.2123\n",
      " No. Lags Chosen       = 4\n",
      " Critical value 1%     = -3.532\n",
      " Critical value 5%     = -2.906\n",
      " Critical value 10%    = -2.59\n",
      " => P-Value = 0.2018. Weak evidence to reject the Null Hypothesis.\n",
      " => Series is Non-Stationary.\n",
      "\n",
      "\n",
      "    Augmented Dickey-Fuller Test on \"N_MOBILE__SUBS\" \n",
      "    -----------------------------------------------\n",
      " Null Hypothesis: Data has unit root. Non-Stationary.\n",
      " Significance Level    = 0.05\n",
      " Test Statistic        = -1.8407\n",
      " No. Lags Chosen       = 0\n",
      " Critical value 1%     = -3.526\n",
      " Critical value 5%     = -2.903\n",
      " Critical value 10%    = -2.589\n",
      " => P-Value = 0.3604. Weak evidence to reject the Null Hypothesis.\n",
      " => Series is Non-Stationary.\n",
      "\n",
      "\n",
      "    Augmented Dickey-Fuller Test on \"POPULATION\" \n",
      "    -----------------------------------------------\n",
      " Null Hypothesis: Data has unit root. Non-Stationary.\n",
      " Significance Level    = 0.05\n",
      " Test Statistic        = -2.1561\n",
      " No. Lags Chosen       = 0\n",
      " Critical value 1%     = -3.526\n",
      " Critical value 5%     = -2.903\n",
      " Critical value 10%    = -2.589\n",
      " => P-Value = 0.2226. Weak evidence to reject the Null Hypothesis.\n",
      " => Series is Non-Stationary.\n",
      "\n",
      "\n"
     ]
    }
   ],
   "source": [
    "# ADF Test on each column of 1st Differences Dataframe\n",
    "for name, column in df_differenced.iteritems():\n",
    "    adfuller_test(column, name=column.name)\n",
    "    print('\\n')"
   ]
  },
  {
   "cell_type": "code",
   "execution_count": 28,
   "id": "5fl7_25oVu0H",
   "metadata": {
    "colab": {
     "base_uri": "https://localhost:8080/"
    },
    "id": "5fl7_25oVu0H",
    "outputId": "f6bf064a-e33c-43f2-b470-907cc226ee82"
   },
   "outputs": [
    {
     "name": "stdout",
     "output_type": "stream",
     "text": [
      "columns name: GDP\n",
      "the test statistic                -5.634832\n",
      "Mackinno s approximate p-value     0.000001\n",
      "#usedlags                          9.000000\n",
      "NOBS                              60.000000\n",
      "dtype: float64\n",
      "columns name: EXP__INF\n",
      "the test statistic                -3.079047\n",
      "Mackinno s approximate p-value     0.028143\n",
      "#usedlags                         11.000000\n",
      "NOBS                              58.000000\n",
      "dtype: float64\n",
      "columns name: GDP_TELE\n",
      "the test statistic                -5.082239\n",
      "Mackinno s approximate p-value     0.000015\n",
      "#usedlags                         10.000000\n",
      "NOBS                              59.000000\n",
      "dtype: float64\n",
      "columns name: N_INTE_USERS\n",
      "the test statistic                -5.113653\n",
      "Mackinno s approximate p-value     0.000013\n",
      "#usedlags                          8.000000\n",
      "NOBS                              61.000000\n",
      "dtype: float64\n",
      "columns name: N_MOBILE__SUBS\n",
      "the test statistic               -6.280749e+00\n",
      "Mackinno s approximate p-value    3.801862e-08\n",
      "#usedlags                         4.000000e+00\n",
      "NOBS                              6.500000e+01\n",
      "dtype: float64\n",
      "columns name: POPULATION\n",
      "the test statistic               -6.028557e+00\n",
      "Mackinno s approximate p-value    1.436239e-07\n",
      "#usedlags                         4.000000e+00\n",
      "NOBS                              6.500000e+01\n",
      "dtype: float64\n"
     ]
    }
   ],
   "source": [
    "from statsmodels.tsa.stattools import adfuller\n",
    "def test_stationarity(d):\n",
    "  for col in d.columns:\n",
    "    dtest= adfuller(d[col])\n",
    "    doutput=pd.Series(dtest[0:4],index=['the test statistic','Mackinno s approximate p-value', '#usedlags','NOBS' ])\n",
    "    print('columns name:',col)\n",
    "    print(doutput)   \n",
    "df1=df_differenced.diff().dropna()\n",
    "test_stationarity(df1.diff().dropna()) #1 diff"
   ]
  },
  {
   "cell_type": "code",
   "execution_count": 29,
   "id": "a69e2c23",
   "metadata": {},
   "outputs": [
    {
     "name": "stdout",
     "output_type": "stream",
     "text": [
      "    Augmented Dickey-Fuller Test on \"GDP\" \n",
      "    -----------------------------------------------\n",
      " Null Hypothesis: Data has unit root. Non-Stationary.\n",
      " Significance Level    = 0.05\n",
      " Test Statistic        = -19.0191\n",
      " No. Lags Chosen       = 2\n",
      " Critical value 1%     = -3.53\n",
      " Critical value 5%     = -2.905\n",
      " Critical value 10%    = -2.59\n",
      " => P-Value = 0.0. Rejecting Null Hypothesis.\n",
      " => Series is Stationary.\n",
      "\n",
      "\n",
      "    Augmented Dickey-Fuller Test on \"EXP__INF\" \n",
      "    -----------------------------------------------\n",
      " Null Hypothesis: Data has unit root. Non-Stationary.\n",
      " Significance Level    = 0.05\n",
      " Test Statistic        = -8.0498\n",
      " No. Lags Chosen       = 3\n",
      " Critical value 1%     = -3.532\n",
      " Critical value 5%     = -2.906\n",
      " Critical value 10%    = -2.59\n",
      " => P-Value = 0.0. Rejecting Null Hypothesis.\n",
      " => Series is Stationary.\n",
      "\n",
      "\n",
      "    Augmented Dickey-Fuller Test on \"GDP_TELE\" \n",
      "    -----------------------------------------------\n",
      " Null Hypothesis: Data has unit root. Non-Stationary.\n",
      " Significance Level    = 0.05\n",
      " Test Statistic        = -5.8201\n",
      " No. Lags Chosen       = 3\n",
      " Critical value 1%     = -3.532\n",
      " Critical value 5%     = -2.906\n",
      " Critical value 10%    = -2.59\n",
      " => P-Value = 0.0. Rejecting Null Hypothesis.\n",
      " => Series is Stationary.\n",
      "\n",
      "\n",
      "    Augmented Dickey-Fuller Test on \"N_INTE_USERS\" \n",
      "    -----------------------------------------------\n",
      " Null Hypothesis: Data has unit root. Non-Stationary.\n",
      " Significance Level    = 0.05\n",
      " Test Statistic        = -7.4435\n",
      " No. Lags Chosen       = 3\n",
      " Critical value 1%     = -3.532\n",
      " Critical value 5%     = -2.906\n",
      " Critical value 10%    = -2.59\n",
      " => P-Value = 0.0. Rejecting Null Hypothesis.\n",
      " => Series is Stationary.\n",
      "\n",
      "\n"
     ]
    },
    {
     "name": "stderr",
     "output_type": "stream",
     "text": [
      "C:\\Users\\20111\\AppData\\Local\\Temp\\ipykernel_12988\\3577606352.py:2: FutureWarning: iteritems is deprecated and will be removed in a future version. Use .items instead.\n",
      "  for name, column in df1.iteritems():\n"
     ]
    },
    {
     "name": "stdout",
     "output_type": "stream",
     "text": [
      "    Augmented Dickey-Fuller Test on \"N_MOBILE__SUBS\" \n",
      "    -----------------------------------------------\n",
      " Null Hypothesis: Data has unit root. Non-Stationary.\n",
      " Significance Level    = 0.05\n",
      " Test Statistic        = -8.227\n",
      " No. Lags Chosen       = 0\n",
      " Critical value 1%     = -3.527\n",
      " Critical value 5%     = -2.904\n",
      " Critical value 10%    = -2.589\n",
      " => P-Value = 0.0. Rejecting Null Hypothesis.\n",
      " => Series is Stationary.\n",
      "\n",
      "\n",
      "    Augmented Dickey-Fuller Test on \"POPULATION\" \n",
      "    -----------------------------------------------\n",
      " Null Hypothesis: Data has unit root. Non-Stationary.\n",
      " Significance Level    = 0.05\n",
      " Test Statistic        = -9.665\n",
      " No. Lags Chosen       = 0\n",
      " Critical value 1%     = -3.527\n",
      " Critical value 5%     = -2.904\n",
      " Critical value 10%    = -2.589\n",
      " => P-Value = 0.0. Rejecting Null Hypothesis.\n",
      " => Series is Stationary.\n",
      "\n",
      "\n"
     ]
    }
   ],
   "source": [
    "# ADF Test on each column of 3st Differences Dataframe(الفروق الثالثه)\n",
    "for name, column in df1.iteritems():\n",
    "    adfuller_test(column, name=column.name)\n",
    "    print('\\n')"
   ]
  },
  {
   "cell_type": "markdown",
   "id": "4cedf314",
   "metadata": {},
   "source": [
    "After 3st difference the dataset become stationary"
   ]
  },
  {
   "cell_type": "markdown",
   "id": "MhhsvjsjUuOk",
   "metadata": {
    "id": "MhhsvjsjUuOk"
   },
   "source": [
    "### 4- Split the Series into Training and Testing Data"
   ]
  },
  {
   "cell_type": "code",
   "execution_count": 30,
   "id": "D02LCRlmqDLZ",
   "metadata": {
    "id": "D02LCRlmqDLZ"
   },
   "outputs": [],
   "source": [
    "nobs = 3\n",
    "train = df1[:-nobs]\n",
    "test = df1[-nobs:]"
   ]
  },
  {
   "cell_type": "code",
   "execution_count": 31,
   "id": "ioyTeGT30yGh",
   "metadata": {
    "colab": {
     "base_uri": "https://localhost:8080/"
    },
    "id": "ioyTeGT30yGh",
    "outputId": "ea2d77e8-8ae1-4de8-ce04-d00cdcaffd0e"
   },
   "outputs": [
    {
     "data": {
      "text/plain": [
       "(68, 3)"
      ]
     },
     "execution_count": 31,
     "metadata": {},
     "output_type": "execute_result"
    }
   ],
   "source": [
    "len(train), len(test)\n"
   ]
  },
  {
   "cell_type": "markdown",
   "id": "OekFYk67WVKw",
   "metadata": {
    "id": "OekFYk67WVKw"
   },
   "source": [
    "### 5- Select and train the Order (P) of VAR model"
   ]
  },
  {
   "cell_type": "code",
   "execution_count": 32,
   "id": "S8ax28vj09EF",
   "metadata": {
    "colab": {
     "base_uri": "https://localhost:8080/"
    },
    "id": "S8ax28vj09EF",
    "outputId": "aeedfd06-d70c-4f0c-e14c-841457d8d67b"
   },
   "outputs": [
    {
     "name": "stderr",
     "output_type": "stream",
     "text": [
      "C:\\Users\\20111\\anaconda3\\lib\\site-packages\\statsmodels\\tsa\\base\\tsa_model.py:473: ValueWarning: No frequency information was provided, so inferred frequency QS-OCT will be used.\n",
      "  self._init_dates(dates, freq)\n",
      "C:\\Users\\20111\\anaconda3\\lib\\site-packages\\statsmodels\\tsa\\base\\tsa_model.py:473: ValueWarning: No frequency information was provided, so inferred frequency QS-OCT will be used.\n",
      "  self._init_dates(dates, freq)\n",
      "C:\\Users\\20111\\anaconda3\\lib\\site-packages\\statsmodels\\tsa\\base\\tsa_model.py:473: ValueWarning: No frequency information was provided, so inferred frequency QS-OCT will be used.\n",
      "  self._init_dates(dates, freq)\n",
      "C:\\Users\\20111\\anaconda3\\lib\\site-packages\\statsmodels\\tsa\\base\\tsa_model.py:473: ValueWarning: No frequency information was provided, so inferred frequency QS-OCT will be used.\n",
      "  self._init_dates(dates, freq)\n",
      "C:\\Users\\20111\\anaconda3\\lib\\site-packages\\statsmodels\\tsa\\base\\tsa_model.py:473: ValueWarning: No frequency information was provided, so inferred frequency QS-OCT will be used.\n",
      "  self._init_dates(dates, freq)\n",
      "C:\\Users\\20111\\anaconda3\\lib\\site-packages\\statsmodels\\tsa\\base\\tsa_model.py:473: ValueWarning: No frequency information was provided, so inferred frequency QS-OCT will be used.\n",
      "  self._init_dates(dates, freq)\n",
      "C:\\Users\\20111\\anaconda3\\lib\\site-packages\\statsmodels\\tsa\\base\\tsa_model.py:473: ValueWarning: No frequency information was provided, so inferred frequency QS-OCT will be used.\n",
      "  self._init_dates(dates, freq)\n"
     ]
    },
    {
     "name": "stdout",
     "output_type": "stream",
     "text": [
      "VAR Order 0\n",
      "AIC 39.23396805960401\n",
      "BIC 39.429806974766606\n",
      "FPE 1.094211706974197e+17\n",
      "HQIC 39.311565435551366\n",
      "\n",
      "VAR Order 1\n",
      "AIC 40.07735325688958\n",
      "BIC 41.4593993765078\n",
      "FPE 2.5548627872663786e+17\n",
      "HQIC 40.62423236317257\n",
      "\n",
      "VAR Order 2\n",
      "AIC 40.76647375018025\n",
      "BIC 43.35424753621148\n",
      "FPE 5.2269421865829843e+17\n",
      "HQIC 41.789026166704424\n",
      "\n",
      "VAR Order 3\n",
      "AIC 40.4681574612752\n",
      "BIC 44.281698211553696\n",
      "FPE 4.176906859345105e+17\n",
      "HQIC 41.97284376234261\n",
      "\n",
      "VAR Order 4\n",
      "AIC 39.07606902835844\n",
      "BIC 44.13595125498267\n",
      "FPE 1.2153970202749336e+17\n",
      "HQIC 41.06941222513839\n",
      "\n",
      "VAR Order 5\n",
      "AIC 39.73375629310051\n",
      "BIC 46.06110643768504\n",
      "FPE 3.159459865221586e+17\n",
      "HQIC 42.22233403212307\n",
      "\n",
      "VAR Order 6\n",
      "AIC 40.16775311019827\n",
      "BIC 47.78426655342424\n",
      "FPE 8.330973851734679e+17\n",
      "HQIC 43.158188445915634\n",
      "\n",
      "VAR Order 7\n",
      "AIC 40.98846309106157\n",
      "BIC 49.91642140182738\n",
      "FPE 4.987974278843659e+18\n",
      "HQIC 44.48741362324104\n",
      "\n"
     ]
    },
    {
     "name": "stderr",
     "output_type": "stream",
     "text": [
      "C:\\Users\\20111\\anaconda3\\lib\\site-packages\\statsmodels\\tsa\\base\\tsa_model.py:473: ValueWarning: No frequency information was provided, so inferred frequency QS-OCT will be used.\n",
      "  self._init_dates(dates, freq)\n"
     ]
    }
   ],
   "source": [
    "p = [0,1,2,3,4,5,6,7]  # try with list of 7 p values\n",
    "\n",
    "for i in p:\n",
    "    model = VAR(train)\n",
    "    results = model.fit(i)\n",
    "    print(f'VAR Order {i}')\n",
    "    print('AIC {}'.format(results.aic))\n",
    "    print('BIC {}'.format(results.bic))\n",
    "    print('FPE {}'.format(results.fpe))\n",
    "    print('HQIC {}'.format(results.hqic))\n",
    "    print()"
   ]
  },
  {
   "cell_type": "code",
   "execution_count": 33,
   "id": "C6YavYZhXzTS",
   "metadata": {
    "colab": {
     "base_uri": "https://localhost:8080/",
     "height": 202
    },
    "id": "C6YavYZhXzTS",
    "outputId": "90ffc7c5-50a6-40dd-cab1-b9e49d42e202"
   },
   "outputs": [
    {
     "data": {
      "text/html": [
       "<table class=\"simpletable\">\n",
       "<caption>VAR Order Selection (* highlights the minimums)</caption>\n",
       "<tr>\n",
       "  <td></td>      <th>AIC</th>         <th>BIC</th>         <th>FPE</th>        <th>HQIC</th>    \n",
       "</tr>\n",
       "<tr>\n",
       "  <th>0</th> <td>     39.82</td>  <td>     40.03*</td> <td> 1.974e+17*</td> <td>     39.91*</td>\n",
       "</tr>\n",
       "<tr>\n",
       "  <th>1</th> <td>     40.68</td>  <td>     42.13</td>  <td> 4.653e+17</td>  <td>     41.24</td> \n",
       "</tr>\n",
       "<tr>\n",
       "  <th>2</th> <td>     41.36</td>  <td>     44.06</td>  <td> 9.570e+17</td>  <td>     42.42</td> \n",
       "</tr>\n",
       "<tr>\n",
       "  <th>3</th> <td>     41.03</td>  <td>     44.98</td>  <td> 7.526e+17</td>  <td>     42.58</td> \n",
       "</tr>\n",
       "<tr>\n",
       "  <th>4</th> <td>     39.54*</td> <td>     44.74</td>  <td> 2.030e+17</td>  <td>     41.58</td> \n",
       "</tr>\n",
       "<tr>\n",
       "  <th>5</th> <td>     40.07</td>  <td>     46.50</td>  <td> 4.702e+17</td>  <td>     42.59</td> \n",
       "</tr>\n",
       "<tr>\n",
       "  <th>6</th> <td>     40.36</td>  <td>     48.04</td>  <td> 1.076e+18</td>  <td>     43.37</td> \n",
       "</tr>\n",
       "<tr>\n",
       "  <th>7</th> <td>     40.99</td>  <td>     49.92</td>  <td> 4.988e+18</td>  <td>     44.49</td> \n",
       "</tr>\n",
       "</table>"
      ],
      "text/latex": [
       "\\begin{center}\n",
       "\\begin{tabular}{lcccc}\n",
       "\\toprule\n",
       "           & \\textbf{AIC} & \\textbf{BIC} & \\textbf{FPE} & \\textbf{HQIC}  \\\\\n",
       "\\midrule\n",
       "\\textbf{0} &       39.82  &      40.03*  &  1.974e+17*  &       39.91*   \\\\\n",
       "\\textbf{1} &       40.68  &       42.13  &   4.653e+17  &        41.24   \\\\\n",
       "\\textbf{2} &       41.36  &       44.06  &   9.570e+17  &        42.42   \\\\\n",
       "\\textbf{3} &       41.03  &       44.98  &   7.526e+17  &        42.58   \\\\\n",
       "\\textbf{4} &      39.54*  &       44.74  &   2.030e+17  &        41.58   \\\\\n",
       "\\textbf{5} &       40.07  &       46.50  &   4.702e+17  &        42.59   \\\\\n",
       "\\textbf{6} &       40.36  &       48.04  &   1.076e+18  &        43.37   \\\\\n",
       "\\textbf{7} &       40.99  &       49.92  &   4.988e+18  &        44.49   \\\\\n",
       "\\bottomrule\n",
       "\\end{tabular}\n",
       "%\\caption{VAR Order Selection (* highlights the minimums)}\n",
       "\\end{center}"
      ],
      "text/plain": [
       "<class 'statsmodels.iolib.table.SimpleTable'>"
      ]
     },
     "execution_count": 33,
     "metadata": {},
     "output_type": "execute_result"
    }
   ],
   "source": [
    "x = model.select_order(maxlags=7)\n",
    "x.summary()"
   ]
  },
  {
   "cell_type": "code",
   "execution_count": 34,
   "id": "hZbyVvQ41DLH",
   "metadata": {
    "colab": {
     "base_uri": "https://localhost:8080/"
    },
    "id": "hZbyVvQ41DLH",
    "outputId": "26ccd66b-df76-483c-9129-0078cca2524a"
   },
   "outputs": [
    {
     "data": {
      "text/plain": [
       "['GDP', 'EXP__INF', 'GDP_TELE', 'N_INTE_USERS', 'N_MOBILE__SUBS', 'POPULATION']"
      ]
     },
     "execution_count": 34,
     "metadata": {},
     "output_type": "execute_result"
    }
   ],
   "source": [
    "model.endog_names"
   ]
  },
  {
   "cell_type": "code",
   "execution_count": 35,
   "id": "W2R7fN5n1VzF",
   "metadata": {
    "colab": {
     "base_uri": "https://localhost:8080/"
    },
    "id": "W2R7fN5n1VzF",
    "outputId": "807c7163-590d-46f8-e114-c471f382af85"
   },
   "outputs": [
    {
     "data": {
      "text/plain": [
       "  Summary of Regression Results   \n",
       "==================================\n",
       "Model:                         VAR\n",
       "Method:                        OLS\n",
       "Date:           Sat, 26, Oct, 2024\n",
       "Time:                     15:04:10\n",
       "--------------------------------------------------------------------\n",
       "No. of Equations:         6.00000    BIC:                    41.4594\n",
       "Nobs:                     67.0000    HQIC:                   40.6242\n",
       "Log likelihood:          -1871.00    FPE:                2.55486e+17\n",
       "AIC:                      40.0774    Det(Omega_mle):     1.40743e+17\n",
       "--------------------------------------------------------------------\n",
       "Results for equation GDP\n",
       "====================================================================================\n",
       "                       coefficient       std. error           t-stat            prob\n",
       "------------------------------------------------------------------------------------\n",
       "const                    -0.415601         6.532150           -0.064           0.949\n",
       "L1.GDP                   -0.336451         0.117976           -2.852           0.004\n",
       "L1.EXP__INF              -0.229017         0.232019           -0.987           0.324\n",
       "L1.GDP_TELE               1.128331         0.605181            1.864           0.062\n",
       "L1.N_INTE_USERS           0.003645         0.035906            0.102           0.919\n",
       "L1.N_MOBILE__SUBS        -0.041801         0.107443           -0.389           0.697\n",
       "L1.POPULATION            -2.443601         8.708446           -0.281           0.779\n",
       "====================================================================================\n",
       "\n",
       "Results for equation EXP__INF\n",
       "====================================================================================\n",
       "                       coefficient       std. error           t-stat            prob\n",
       "------------------------------------------------------------------------------------\n",
       "const                     1.304544         5.576983            0.234           0.815\n",
       "L1.GDP                    0.013789         0.100725            0.137           0.891\n",
       "L1.EXP__INF               0.149887         0.198092            0.757           0.449\n",
       "L1.GDP_TELE              -0.246733         0.516688           -0.478           0.633\n",
       "L1.N_INTE_USERS           0.003805         0.030655            0.124           0.901\n",
       "L1.N_MOBILE__SUBS         0.062597         0.091732            0.682           0.495\n",
       "L1.POPULATION             8.955851         7.435049            1.205           0.228\n",
       "====================================================================================\n",
       "\n",
       "Results for equation GDP_TELE\n",
       "====================================================================================\n",
       "                       coefficient       std. error           t-stat            prob\n",
       "------------------------------------------------------------------------------------\n",
       "const                     0.947084         1.531712            0.618           0.536\n",
       "L1.GDP                   -0.001777         0.027664           -0.064           0.949\n",
       "L1.EXP__INF               0.025233         0.054406            0.464           0.643\n",
       "L1.GDP_TELE              -0.041792         0.141908           -0.294           0.768\n",
       "L1.N_INTE_USERS           0.000910         0.008419            0.108           0.914\n",
       "L1.N_MOBILE__SUBS         0.009841         0.025194            0.391           0.696\n",
       "L1.POPULATION             1.297865         2.042028            0.636           0.525\n",
       "====================================================================================\n",
       "\n",
       "Results for equation N_INTE_USERS\n",
       "====================================================================================\n",
       "                       coefficient       std. error           t-stat            prob\n",
       "------------------------------------------------------------------------------------\n",
       "const                   -17.407453        30.110638           -0.578           0.563\n",
       "L1.GDP                   -0.007564         0.543821           -0.014           0.989\n",
       "L1.EXP__INF              -1.152453         1.069514           -1.078           0.281\n",
       "L1.GDP_TELE               1.800524         2.789645            0.645           0.519\n",
       "L1.N_INTE_USERS          -0.028017         0.165511           -0.169           0.866\n",
       "L1.N_MOBILE__SUBS        -0.491771         0.495268           -0.993           0.321\n",
       "L1.POPULATION           -70.721480        40.142507           -1.762           0.078\n",
       "====================================================================================\n",
       "\n",
       "Results for equation N_MOBILE__SUBS\n",
       "====================================================================================\n",
       "                       coefficient       std. error           t-stat            prob\n",
       "------------------------------------------------------------------------------------\n",
       "const                     0.046676         9.865352            0.005           0.996\n",
       "L1.GDP                    0.033746         0.178176            0.189           0.850\n",
       "L1.EXP__INF               0.119893         0.350412            0.342           0.732\n",
       "L1.GDP_TELE              -0.161182         0.913990           -0.176           0.860\n",
       "L1.N_INTE_USERS           0.002705         0.054228            0.050           0.960\n",
       "L1.N_MOBILE__SUBS         0.052201         0.162268            0.322           0.748\n",
       "L1.POPULATION             7.180155        13.152161            0.546           0.585\n",
       "====================================================================================\n",
       "\n",
       "Results for equation POPULATION\n",
       "====================================================================================\n",
       "                       coefficient       std. error           t-stat            prob\n",
       "------------------------------------------------------------------------------------\n",
       "const                    -0.116343         0.137479           -0.846           0.397\n",
       "L1.GDP                   -0.001056         0.002483           -0.425           0.670\n",
       "L1.EXP__INF              -0.001969         0.004883           -0.403           0.687\n",
       "L1.GDP_TELE               0.015699         0.012737            1.233           0.218\n",
       "L1.N_INTE_USERS          -0.000395         0.000756           -0.523           0.601\n",
       "L1.N_MOBILE__SUBS        -0.002146         0.002261           -0.949           0.343\n",
       "L1.POPULATION            -0.246731         0.183282           -1.346           0.178\n",
       "====================================================================================\n",
       "\n",
       "Correlation matrix of residuals\n",
       "                       GDP  EXP__INF  GDP_TELE  N_INTE_USERS  N_MOBILE__SUBS  POPULATION\n",
       "GDP               1.000000 -0.009169  0.061117     -0.035718       -0.026437    0.000661\n",
       "EXP__INF         -0.009169  1.000000  0.062173     -0.513152       -0.165969   -0.532020\n",
       "GDP_TELE          0.061117  0.062173  1.000000      0.067258        0.213559    0.101683\n",
       "N_INTE_USERS     -0.035718 -0.513152  0.067258      1.000000        0.035044    0.324774\n",
       "N_MOBILE__SUBS   -0.026437 -0.165969  0.213559      0.035044        1.000000   -0.306760\n",
       "POPULATION        0.000661 -0.532020  0.101683      0.324774       -0.306760    1.000000\n",
       "\n"
      ]
     },
     "execution_count": 35,
     "metadata": {},
     "output_type": "execute_result"
    }
   ],
   "source": [
    "results = model.fit(1)\n",
    "results.summary()"
   ]
  },
  {
   "cell_type": "code",
   "execution_count": 36,
   "id": "alWEVR9REMT0",
   "metadata": {
    "colab": {
     "base_uri": "https://localhost:8080/"
    },
    "id": "alWEVR9REMT0",
    "outputId": "69ee5b97-48a9-417b-fd40-cd566a1be028"
   },
   "outputs": [
    {
     "name": "stdout",
     "output_type": "stream",
     "text": [
      "GDP : 2.24\n",
      "EXP__INF : 1.96\n",
      "GDP_TELE : 2.0\n",
      "N_INTE_USERS : 1.84\n",
      "N_MOBILE__SUBS : 2.01\n",
      "POPULATION : 1.95\n"
     ]
    }
   ],
   "source": [
    "from statsmodels.stats.stattools import durbin_watson\n",
    "out = durbin_watson(results.resid)\n",
    "\n",
    "for col, val in zip(train.columns, out):\n",
    "    print((col), ':', round(val, 2))"
   ]
  },
  {
   "cell_type": "code",
   "execution_count": 37,
   "id": "OT6sMm7y1ZX6",
   "metadata": {
    "colab": {
     "base_uri": "https://localhost:8080/"
    },
    "id": "OT6sMm7y1ZX6",
    "outputId": "2df20a69-9baa-4005-b08f-03a9d61983c7"
   },
   "outputs": [
    {
     "data": {
      "text/plain": [
       "1"
      ]
     },
     "execution_count": 37,
     "metadata": {},
     "output_type": "execute_result"
    }
   ],
   "source": [
    "lag_order = results.k_ar\n",
    "lag_order"
   ]
  },
  {
   "cell_type": "code",
   "execution_count": 38,
   "id": "GnxUEITL1hqw",
   "metadata": {
    "colab": {
     "base_uri": "https://localhost:8080/"
    },
    "id": "GnxUEITL1hqw",
    "outputId": "a2bedc6a-ea8b-4320-94d1-b1d2826e462a"
   },
   "outputs": [
    {
     "data": {
      "text/plain": [
       "array([[-5.86791695e+00, -1.66922493e+01, -1.87817374e+00,\n",
       "         1.24731352e+02, -1.39474332e+01,  7.15968346e-01],\n",
       "       [ 2.55039074e+00,  5.19871753e+00,  1.52024839e+00,\n",
       "        -4.87777659e+01,  2.90013543e+00, -3.02765172e-01],\n",
       "       [-3.08119111e-01, -9.71738045e-01,  6.01418230e-01,\n",
       "         6.71641460e-01, -1.64343925e+00, -1.76570110e-02]])"
      ]
     },
     "execution_count": 38,
     "metadata": {},
     "output_type": "execute_result"
    }
   ],
   "source": [
    "z = results.forecast(y=train.values[-lag_order:],steps = 3)\n",
    "z"
   ]
  },
  {
   "cell_type": "code",
   "execution_count": 39,
   "id": "yDfv14TA1urd",
   "metadata": {
    "colab": {
     "base_uri": "https://localhost:8080/",
     "height": 206
    },
    "id": "yDfv14TA1urd",
    "outputId": "41f77291-8a5e-43bc-f014-0560a3ea9d5c"
   },
   "outputs": [
    {
     "data": {
      "text/html": [
       "<div>\n",
       "<style scoped>\n",
       "    .dataframe tbody tr th:only-of-type {\n",
       "        vertical-align: middle;\n",
       "    }\n",
       "\n",
       "    .dataframe tbody tr th {\n",
       "        vertical-align: top;\n",
       "    }\n",
       "\n",
       "    .dataframe thead th {\n",
       "        text-align: right;\n",
       "    }\n",
       "</style>\n",
       "<table border=\"1\" class=\"dataframe\">\n",
       "  <thead>\n",
       "    <tr style=\"text-align: right;\">\n",
       "      <th></th>\n",
       "      <th>GDP</th>\n",
       "      <th>EXP__INF</th>\n",
       "      <th>GDP_TELE</th>\n",
       "      <th>N_INTE_USERS</th>\n",
       "      <th>N_MOBILE__SUBS</th>\n",
       "      <th>POPULATION</th>\n",
       "    </tr>\n",
       "    <tr>\n",
       "      <th>datetime</th>\n",
       "      <th></th>\n",
       "      <th></th>\n",
       "      <th></th>\n",
       "      <th></th>\n",
       "      <th></th>\n",
       "      <th></th>\n",
       "    </tr>\n",
       "  </thead>\n",
       "  <tbody>\n",
       "    <tr>\n",
       "      <th>2019-07-01</th>\n",
       "      <td>-63.5</td>\n",
       "      <td>1.0</td>\n",
       "      <td>1.0</td>\n",
       "      <td>-1.0</td>\n",
       "      <td>1.0</td>\n",
       "      <td>0.0</td>\n",
       "    </tr>\n",
       "    <tr>\n",
       "      <th>2019-10-01</th>\n",
       "      <td>59.9</td>\n",
       "      <td>0.0</td>\n",
       "      <td>0.0</td>\n",
       "      <td>0.0</td>\n",
       "      <td>-1.0</td>\n",
       "      <td>0.0</td>\n",
       "    </tr>\n",
       "    <tr>\n",
       "      <th>2020-01-01</th>\n",
       "      <td>-8.9</td>\n",
       "      <td>-1.0</td>\n",
       "      <td>0.0</td>\n",
       "      <td>1.0</td>\n",
       "      <td>1.0</td>\n",
       "      <td>0.0</td>\n",
       "    </tr>\n",
       "  </tbody>\n",
       "</table>\n",
       "</div>"
      ],
      "text/plain": [
       "             GDP  EXP__INF  GDP_TELE  N_INTE_USERS  N_MOBILE__SUBS  POPULATION\n",
       "datetime                                                                      \n",
       "2019-07-01 -63.5       1.0       1.0          -1.0             1.0         0.0\n",
       "2019-10-01  59.9       0.0       0.0           0.0            -1.0         0.0\n",
       "2020-01-01  -8.9      -1.0       0.0           1.0             1.0         0.0"
      ]
     },
     "execution_count": 39,
     "metadata": {},
     "output_type": "execute_result"
    }
   ],
   "source": [
    "test\n"
   ]
  },
  {
   "cell_type": "markdown",
   "id": "vNUASbfZZwUp",
   "metadata": {
    "id": "vNUASbfZZwUp"
   },
   "source": [
    "### 6- Predction VAR model using statsmodels\n",
    "\n",
    "```\n",
    "# This is formatted as code\n",
    "```\n",
    "\n"
   ]
  },
  {
   "cell_type": "code",
   "execution_count": 40,
   "id": "8jjHkTMI2MNT",
   "metadata": {
    "id": "8jjHkTMI2MNT"
   },
   "outputs": [],
   "source": [
    "idx = pd.date_range(start='2019Q3',periods=3,freq='Q')\n",
    "df_forecast = pd.DataFrame(z,index=idx,columns=['GDP2D','EXP__INF2D','GDP_TELE2D','N_INTE_USERS2D','N_MOBILE__SUBS2D','POPULATION2D'])"
   ]
  },
  {
   "cell_type": "code",
   "execution_count": 41,
   "id": "QHkhKcYH2mlN",
   "metadata": {
    "colab": {
     "base_uri": "https://localhost:8080/",
     "height": 175
    },
    "id": "QHkhKcYH2mlN",
    "outputId": "fa0ab7b6-e285-47af-90a0-ddecbc4fd3b0"
   },
   "outputs": [
    {
     "data": {
      "text/html": [
       "<div>\n",
       "<style scoped>\n",
       "    .dataframe tbody tr th:only-of-type {\n",
       "        vertical-align: middle;\n",
       "    }\n",
       "\n",
       "    .dataframe tbody tr th {\n",
       "        vertical-align: top;\n",
       "    }\n",
       "\n",
       "    .dataframe thead th {\n",
       "        text-align: right;\n",
       "    }\n",
       "</style>\n",
       "<table border=\"1\" class=\"dataframe\">\n",
       "  <thead>\n",
       "    <tr style=\"text-align: right;\">\n",
       "      <th></th>\n",
       "      <th>GDP2D</th>\n",
       "      <th>EXP__INF2D</th>\n",
       "      <th>GDP_TELE2D</th>\n",
       "      <th>N_INTE_USERS2D</th>\n",
       "      <th>N_MOBILE__SUBS2D</th>\n",
       "      <th>POPULATION2D</th>\n",
       "    </tr>\n",
       "  </thead>\n",
       "  <tbody>\n",
       "    <tr>\n",
       "      <th>2019-09-30</th>\n",
       "      <td>-5.867917</td>\n",
       "      <td>-16.692249</td>\n",
       "      <td>-1.878174</td>\n",
       "      <td>124.731352</td>\n",
       "      <td>-13.947433</td>\n",
       "      <td>0.715968</td>\n",
       "    </tr>\n",
       "    <tr>\n",
       "      <th>2019-12-31</th>\n",
       "      <td>2.550391</td>\n",
       "      <td>5.198718</td>\n",
       "      <td>1.520248</td>\n",
       "      <td>-48.777766</td>\n",
       "      <td>2.900135</td>\n",
       "      <td>-0.302765</td>\n",
       "    </tr>\n",
       "    <tr>\n",
       "      <th>2020-03-31</th>\n",
       "      <td>-0.308119</td>\n",
       "      <td>-0.971738</td>\n",
       "      <td>0.601418</td>\n",
       "      <td>0.671641</td>\n",
       "      <td>-1.643439</td>\n",
       "      <td>-0.017657</td>\n",
       "    </tr>\n",
       "  </tbody>\n",
       "</table>\n",
       "</div>"
      ],
      "text/plain": [
       "               GDP2D  EXP__INF2D  GDP_TELE2D  N_INTE_USERS2D  \\\n",
       "2019-09-30 -5.867917  -16.692249   -1.878174      124.731352   \n",
       "2019-12-31  2.550391    5.198718    1.520248      -48.777766   \n",
       "2020-03-31 -0.308119   -0.971738    0.601418        0.671641   \n",
       "\n",
       "            N_MOBILE__SUBS2D  POPULATION2D  \n",
       "2019-09-30        -13.947433      0.715968  \n",
       "2019-12-31          2.900135     -0.302765  \n",
       "2020-03-31         -1.643439     -0.017657  "
      ]
     },
     "execution_count": 41,
     "metadata": {},
     "output_type": "execute_result"
    }
   ],
   "source": [
    "df_forecast\n"
   ]
  },
  {
   "cell_type": "code",
   "execution_count": 42,
   "id": "_ZIQMGbQ3JN9",
   "metadata": {
    "id": "_ZIQMGbQ3JN9"
   },
   "outputs": [],
   "source": [
    "df_forecast['GDP1D'] = (df['GDP'].iloc[-nobs-1] - df['GDP'].iloc[-nobs-2]) + df_forecast['GDP2D'].cumsum()"
   ]
  },
  {
   "cell_type": "code",
   "execution_count": 43,
   "id": "nS3VdEyp3Y_y",
   "metadata": {
    "id": "nS3VdEyp3Y_y"
   },
   "outputs": [],
   "source": [
    "# Now build the forecast values from the first difference set\n",
    "df_forecast['GDPForecast'] = df['GDP'].iloc[-nobs-1] + df_forecast['GDP2D'].cumsum()"
   ]
  },
  {
   "cell_type": "code",
   "execution_count": 44,
   "id": "Wm7abgkY3pHp",
   "metadata": {
    "colab": {
     "base_uri": "https://localhost:8080/",
     "height": 308
    },
    "id": "Wm7abgkY3pHp",
    "outputId": "dc7b84e1-c31f-47fd-ae85-f925ec6bf804"
   },
   "outputs": [
    {
     "data": {
      "text/html": [
       "<div>\n",
       "<style scoped>\n",
       "    .dataframe tbody tr th:only-of-type {\n",
       "        vertical-align: middle;\n",
       "    }\n",
       "\n",
       "    .dataframe tbody tr th {\n",
       "        vertical-align: top;\n",
       "    }\n",
       "\n",
       "    .dataframe thead th {\n",
       "        text-align: right;\n",
       "    }\n",
       "</style>\n",
       "<table border=\"1\" class=\"dataframe\">\n",
       "  <thead>\n",
       "    <tr style=\"text-align: right;\">\n",
       "      <th></th>\n",
       "      <th>GDP2D</th>\n",
       "      <th>EXP__INF2D</th>\n",
       "      <th>GDP_TELE2D</th>\n",
       "      <th>N_INTE_USERS2D</th>\n",
       "      <th>N_MOBILE__SUBS2D</th>\n",
       "      <th>POPULATION2D</th>\n",
       "      <th>GDP1D</th>\n",
       "      <th>GDPForecast</th>\n",
       "    </tr>\n",
       "  </thead>\n",
       "  <tbody>\n",
       "    <tr>\n",
       "      <th>2019-09-30</th>\n",
       "      <td>-5.867917</td>\n",
       "      <td>-16.692249</td>\n",
       "      <td>-1.878174</td>\n",
       "      <td>124.731352</td>\n",
       "      <td>-13.947433</td>\n",
       "      <td>0.715968</td>\n",
       "      <td>26.332083</td>\n",
       "      <td>1001.532083</td>\n",
       "    </tr>\n",
       "    <tr>\n",
       "      <th>2019-12-31</th>\n",
       "      <td>2.550391</td>\n",
       "      <td>5.198718</td>\n",
       "      <td>1.520248</td>\n",
       "      <td>-48.777766</td>\n",
       "      <td>2.900135</td>\n",
       "      <td>-0.302765</td>\n",
       "      <td>28.882474</td>\n",
       "      <td>1004.082474</td>\n",
       "    </tr>\n",
       "    <tr>\n",
       "      <th>2020-03-31</th>\n",
       "      <td>-0.308119</td>\n",
       "      <td>-0.971738</td>\n",
       "      <td>0.601418</td>\n",
       "      <td>0.671641</td>\n",
       "      <td>-1.643439</td>\n",
       "      <td>-0.017657</td>\n",
       "      <td>28.574355</td>\n",
       "      <td>1003.774355</td>\n",
       "    </tr>\n",
       "  </tbody>\n",
       "</table>\n",
       "</div>"
      ],
      "text/plain": [
       "               GDP2D  EXP__INF2D  GDP_TELE2D  N_INTE_USERS2D  \\\n",
       "2019-09-30 -5.867917  -16.692249   -1.878174      124.731352   \n",
       "2019-12-31  2.550391    5.198718    1.520248      -48.777766   \n",
       "2020-03-31 -0.308119   -0.971738    0.601418        0.671641   \n",
       "\n",
       "            N_MOBILE__SUBS2D  POPULATION2D      GDP1D  GDPForecast  \n",
       "2019-09-30        -13.947433      0.715968  26.332083  1001.532083  \n",
       "2019-12-31          2.900135     -0.302765  28.882474  1004.082474  \n",
       "2020-03-31         -1.643439     -0.017657  28.574355  1003.774355  "
      ]
     },
     "execution_count": 44,
     "metadata": {},
     "output_type": "execute_result"
    }
   ],
   "source": [
    "df_forecast\n"
   ]
  },
  {
   "cell_type": "code",
   "execution_count": 45,
   "id": "Wl74VTd0S_3C",
   "metadata": {
    "id": "Wl74VTd0S_3C"
   },
   "outputs": [],
   "source": [
    "# Your optimal lag\n",
    "optimal_lag = 1\n",
    "\n",
    "# Extract column names\n",
    "features = df.columns\n",
    "\n",
    "# Loop through each lags\n",
    "for i in range(1, optimal_lag + 1):\n",
    "    \n",
    "    # Loop through each features\n",
    "    for j in features:\n",
    "        \n",
    "        # Add lag i of feature j to the dataframe\n",
    "        df[f\"{j}_Lag_{i}\"] = df[j].shift(i)\n",
    "        \n",
    "# Remove all missing values\n",
    "df = df.dropna()"
   ]
  },
  {
   "cell_type": "code",
   "execution_count": 46,
   "id": "uFOxlIqK_A8g",
   "metadata": {
    "colab": {
     "base_uri": "https://localhost:8080/"
    },
    "id": "uFOxlIqK_A8g",
    "outputId": "80f23639-10e2-4a54-cc13-2cbe8f0ad698"
   },
   "outputs": [
    {
     "name": "stdout",
     "output_type": "stream",
     "text": [
      "GDP VAR(1) RMSE: 18.908\n",
      "GDP VAR(1) MAE: 15.558\n",
      "GDP VAR(1) MAPE: 0.016\n"
     ]
    }
   ],
   "source": [
    "from statsmodels.tools.eval_measures import mse,rmse\n",
    "#RMSE \n",
    "RMSE1 = rmse(df['GDP'][-nobs:],df_forecast.GDPForecast)\n",
    "print(f'GDP VAR(1) RMSE: {RMSE1:.3f}')\n",
    "#MAE\n",
    "MAE=mae(df['GDP'][-nobs:],df_forecast.GDPForecast)\n",
    "print(f'GDP VAR(1) MAE: {MAE:.3f}')\n",
    "#MAPE\n",
    "MAPE=mape(df['GDP'][-nobs:],df_forecast.GDPForecast)\n",
    "print(f'GDP VAR(1) MAPE: {MAPE:.3f}')"
   ]
  },
  {
   "cell_type": "code",
   "execution_count": 47,
   "id": "df32a818",
   "metadata": {},
   "outputs": [
    {
     "data": {
      "text/plain": [
       "2019-09-30    1001.532083\n",
       "2019-12-31    1004.082474\n",
       "2020-03-31    1003.774355\n",
       "Freq: Q-DEC, Name: GDPForecast, dtype: float64"
      ]
     },
     "execution_count": 47,
     "metadata": {},
     "output_type": "execute_result"
    }
   ],
   "source": [
    "df_forecast['GDPForecast']"
   ]
  },
  {
   "cell_type": "code",
   "execution_count": 48,
   "id": "7488d1b9",
   "metadata": {},
   "outputs": [
    {
     "data": {
      "image/png": "[encoded data removed]",
      "text/plain": [
       "<Figure size 1200x500 with 1 Axes>"
      ]
     },
     "metadata": {},
     "output_type": "display_data"
    }
   ],
   "source": [
    "df['GDP'][-nobs:].plot(figsize=(12,5),legend=True).autoscale(axis='x',tight=False)\n",
    "df_forecast['GDPForecast'].plot(legend=True);"
   ]
  },
  {
   "cell_type": "code",
   "execution_count": 49,
   "id": "9eST6oul8GDS",
   "metadata": {
    "colab": {
     "base_uri": "https://localhost:8080/"
    },
    "id": "9eST6oul8GDS",
    "outputId": "1ad372b5-67a0-4ebe-c52c-83f342064681"
   },
   "outputs": [
    {
     "data": {
      "text/plain": [
       "2019-09-30    1001.532083\n",
       "2019-12-31    1004.082474\n",
       "2020-03-31    1003.774355\n",
       "Freq: Q-DEC, Name: GDPForecast, dtype: float64"
      ]
     },
     "execution_count": 49,
     "metadata": {},
     "output_type": "execute_result"
    }
   ],
   "source": [
    "df_forecast.GDPForecast"
   ]
  },
  {
   "cell_type": "code",
   "execution_count": 50,
   "id": "0B4KbkGk4S-1",
   "metadata": {
    "colab": {
     "base_uri": "https://localhost:8080/"
    },
    "id": "0B4KbkGk4S-1",
    "outputId": "a8d4d79c-2418-4a85-96af-56ba83742ae9"
   },
   "outputs": [
    {
     "data": {
      "text/plain": [
       "datetime\n",
       "2019-07-01     976.1\n",
       "2019-10-01    1004.7\n",
       "2020-01-01    1024.4\n",
       "Name: GDP, dtype: float64"
      ]
     },
     "execution_count": 50,
     "metadata": {},
     "output_type": "execute_result"
    }
   ],
   "source": [
    "df['GDP'][-nobs:]"
   ]
  },
  {
   "cell_type": "markdown",
   "id": "044b9e7c",
   "metadata": {},
   "source": [
    "## Forecast one year  for GDP"
   ]
  },
  {
   "cell_type": "code",
   "execution_count": 51,
   "id": "0e49acbd",
   "metadata": {},
   "outputs": [],
   "source": [
    "# Verify if 'GDPForecast' exists in the DataFrame after previous steps\n",
    "#df_forecast.head(), df_forecast.columns.tolist()  # Display first few rows and column names to confirm structure\n"
   ]
  },
  {
   "cell_type": "code",
   "execution_count": 52,
   "id": "bca2bab1",
   "metadata": {},
   "outputs": [
    {
     "name": "stderr",
     "output_type": "stream",
     "text": [
      "C:\\Users\\20111\\anaconda3\\lib\\site-packages\\statsmodels\\tsa\\base\\tsa_model.py:473: ValueWarning: No frequency information was provided, so inferred frequency QS-OCT will be used.\n",
      "  self._init_dates(dates, freq)\n"
     ]
    }
   ],
   "source": [
    "from statsmodels.tsa.api import VAR\n",
    "model_multivariate = VAR(df)"
   ]
  },
  {
   "cell_type": "code",
   "execution_count": 64,
   "id": "2994d27e",
   "metadata": {},
   "outputs": [
    {
     "name": "stdout",
     "output_type": "stream",
     "text": [
      "    datetime  GDPForecast\n",
      "0 2020-06-30  1019.336883\n",
      "1 2020-09-30  1003.835547\n",
      "2 2020-12-31  1018.805745\n",
      "3 2021-03-31  1041.469767\n"
     ]
    },
    {
     "name": "stderr",
     "output_type": "stream",
     "text": [
      "C:\\Users\\20111\\anaconda3\\lib\\site-packages\\statsmodels\\tsa\\base\\tsa_model.py:473: ValueWarning: No frequency information was provided, so inferred frequency QS-OCT will be used.\n",
      "  self._init_dates(dates, freq)\n"
     ]
    }
   ],
   "source": [
    "import pandas as pd\n",
    "from statsmodels.tsa.api import VAR\n",
    "from sklearn.metrics import mean_squared_error, mean_absolute_error, mean_absolute_percentage_error\n",
    "from statsmodels.tools.eval_measures import rmse\n",
    "\n",
    "# (DataFrame)\n",
    "if isinstance(df, pd.Series):\n",
    "    data = df.to_frame()\n",
    "\n",
    "#build var model\n",
    "model_multivariate = VAR(df)\n",
    "\n",
    "# train the model\n",
    "fitted_model_order_1 = model_multivariate.fit(3)\n",
    "\n",
    "#forecast one year f gdp \n",
    "forecast_steps_1_years = 4\n",
    "forecast_1_years = fitted_model_order_1.forecast(y=df.values[-3:], steps=forecast_steps_1_years)\n",
    "\n",
    "# setup the time for forecasting\n",
    "forecast_index_1_years = pd.date_range(start=data.index[-1] + pd.offsets.QuarterEnd(2), periods=forecast_steps_1_years, freq='Q')\n",
    "forecast_df_1_years = pd.DataFrame(forecast_1_years, index=forecast_index_1_years, columns=df.columns)\n",
    "\n",
    "# extract the forecasting values\n",
    "forecast_gdp_1_years_df = forecast_df_1_years[['GDP']].reset_index()\n",
    "forecast_gdp_1_years_df.columns = ['datetime', 'GDPForecast']\n",
    "\n",
    "# show of the one year forecasting\n",
    "print(forecast_gdp_1_years_df)\n"
   ]
  },
  {
   "cell_type": "code",
   "execution_count": 65,
   "id": "91e4b948",
   "metadata": {},
   "outputs": [
    {
     "name": "stdout",
     "output_type": "stream",
     "text": [
      "RMSE for GDP Forecast: 18.722\n",
      "MAPE for GDP Forecast: 1.774%\n",
      "    datetime  GDPForecast\n",
      "0 2020-06-30  1019.336883\n",
      "1 2020-09-30  1003.835547\n",
      "2 2020-12-31  1018.805745\n",
      "3 2021-03-31  1041.469767\n"
     ]
    }
   ],
   "source": [
    "# استخراج القيم الفعلية للفترة الزمنية نفسها للتنبؤ\n",
    "# (تأكد من أن لديك بيانات فعلية للمقارنة)\n",
    "actual_gdp = df['GDP'][-forecast_steps_1_years:].values  # استخراج آخر 20 قيمة فعلية\n",
    "predicted_gdp = forecast_gdp_1_years_df['GDPForecast'].values\n",
    "\n",
    "# حساب RMSE\n",
    "rmse_value = rmse(actual_gdp, predicted_gdp)\n",
    "print(f'RMSE for GDP Forecast: {rmse_value:.3f}')\n",
    "\n",
    "# حساب MAPE\n",
    "mape_value = mean_absolute_percentage_error(actual_gdp, predicted_gdp)\n",
    "print(f'MAPE for GDP Forecast: {mape_value:.3%}')\n",
    "\n",
    "# عرض القيم المتنبأ بها للناتج المحلي الإجمالي\n",
    "print(forecast_gdp_1_years_df)"
   ]
  },
  {
   "cell_type": "code",
   "execution_count": null,
   "id": "89b04bde",
   "metadata": {},
   "outputs": [],
   "source": []
  },
  {
   "cell_type": "code",
   "execution_count": null,
   "id": "bc22cd63",
   "metadata": {},
   "outputs": [],
   "source": []
  }
 ],
 "metadata": {
  "colab": {
   "provenance": []
  },
  "kernelspec": {
   "display_name": "Python 3 (ipykernel)",
   "language": "python",
   "name": "python3"
  },
  "language_info": {
   "codemirror_mode": {
    "name": "ipython",
    "version": 3
   },
   "file_extension": ".py",
   "mimetype": "text/x-python",
   "name": "python",
   "nbconvert_exporter": "python",
   "pygments_lexer": "ipython3",
   "version": "3.10.9"
  }
 },
 "nbformat": 4,
 "nbformat_minor": 5
}
